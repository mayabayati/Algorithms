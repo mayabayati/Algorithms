{
  "nbformat": 4,
  "nbformat_minor": 0,
  "metadata": {
    "kernelspec": {
      "display_name": "Python 3",
      "language": "python",
      "name": "python3"
    },
    "language_info": {
      "codemirror_mode": {
        "name": "ipython",
        "version": 3
      },
      "file_extension": ".py",
      "mimetype": "text/x-python",
      "name": "python",
      "nbconvert_exporter": "python",
      "pygments_lexer": "ipython3",
      "version": "3.7.1"
    },
    "colab": {
      "provenance": [],
      "collapsed_sections": [
        "TZbkZ_6Vz7rH"
      ],
      "include_colab_link": true
    },
    "widgets": {
      "application/vnd.jupyter.widget-state+json": {
        "7fb5864a44d448d69a5b450b4a79e5dc": {
          "model_module": "@jupyter-widgets/controls",
          "model_name": "VBoxModel",
          "model_module_version": "1.5.0",
          "state": {
            "_view_name": "VBoxView",
            "_dom_classes": [
              "widget-interact"
            ],
            "_model_name": "VBoxModel",
            "_view_module": "@jupyter-widgets/controls",
            "_model_module_version": "1.5.0",
            "_view_count": null,
            "_view_module_version": "1.5.0",
            "box_style": "",
            "layout": "IPY_MODEL_923281baef904631820d59a40bde2836",
            "_model_module": "@jupyter-widgets/controls",
            "children": [
              "IPY_MODEL_2ece936b560646e3a032edd212baea9c",
              "IPY_MODEL_2c2026f55e034e36915dd24f3afec49e",
              "IPY_MODEL_348ed081a519443da89db1891e29b14d",
              "IPY_MODEL_29f94085e0a64a56a18ad9673e0e9eb3",
              "IPY_MODEL_4edacea3af0a41d581c36042295d2894"
            ]
          }
        },
        "923281baef904631820d59a40bde2836": {
          "model_module": "@jupyter-widgets/base",
          "model_name": "LayoutModel",
          "model_module_version": "1.2.0",
          "state": {
            "_view_name": "LayoutView",
            "grid_template_rows": null,
            "right": null,
            "justify_content": null,
            "_view_module": "@jupyter-widgets/base",
            "overflow": null,
            "_model_module_version": "1.2.0",
            "_view_count": null,
            "flex_flow": null,
            "width": null,
            "min_width": null,
            "border": null,
            "align_items": null,
            "bottom": null,
            "_model_module": "@jupyter-widgets/base",
            "top": null,
            "grid_column": null,
            "overflow_y": null,
            "overflow_x": null,
            "grid_auto_flow": null,
            "grid_area": null,
            "grid_template_columns": null,
            "flex": null,
            "_model_name": "LayoutModel",
            "justify_items": null,
            "grid_row": null,
            "max_height": null,
            "align_content": null,
            "visibility": null,
            "align_self": null,
            "height": null,
            "min_height": null,
            "padding": null,
            "grid_auto_rows": null,
            "grid_gap": null,
            "max_width": null,
            "order": null,
            "_view_module_version": "1.2.0",
            "grid_template_areas": null,
            "object_position": null,
            "object_fit": null,
            "grid_auto_columns": null,
            "margin": null,
            "display": null,
            "left": null
          }
        },
        "2ece936b560646e3a032edd212baea9c": {
          "model_module": "@jupyter-widgets/controls",
          "model_name": "FloatSliderModel",
          "model_module_version": "1.5.0",
          "state": {
            "_view_name": "FloatSliderView",
            "style": "IPY_MODEL_8348f7739d644cc4be4efd8e9a3e088a",
            "_dom_classes": [],
            "description": "mA",
            "step": 0.05,
            "_model_name": "FloatSliderModel",
            "orientation": "horizontal",
            "max": 1,
            "_view_module": "@jupyter-widgets/controls",
            "_model_module_version": "1.5.0",
            "value": 0.6,
            "_view_count": null,
            "disabled": false,
            "_view_module_version": "1.5.0",
            "min": 0,
            "continuous_update": true,
            "readout_format": ".2f",
            "description_tooltip": null,
            "readout": true,
            "_model_module": "@jupyter-widgets/controls",
            "layout": "IPY_MODEL_c602bb3365784efa8fa95e6e3308ba98"
          }
        },
        "2c2026f55e034e36915dd24f3afec49e": {
          "model_module": "@jupyter-widgets/controls",
          "model_name": "FloatSliderModel",
          "model_module_version": "1.5.0",
          "state": {
            "_view_name": "FloatSliderView",
            "style": "IPY_MODEL_5f726f6b5b174ca29e7d6b4519761fe8",
            "_dom_classes": [],
            "description": "mB",
            "step": 0.05,
            "_model_name": "FloatSliderModel",
            "orientation": "horizontal",
            "max": 1,
            "_view_module": "@jupyter-widgets/controls",
            "_model_module_version": "1.5.0",
            "value": 0.3,
            "_view_count": null,
            "disabled": false,
            "_view_module_version": "1.5.0",
            "min": 0,
            "continuous_update": true,
            "readout_format": ".2f",
            "description_tooltip": null,
            "readout": true,
            "_model_module": "@jupyter-widgets/controls",
            "layout": "IPY_MODEL_d89a9c6d299a41949a15d7bd3feabf55"
          }
        },
        "348ed081a519443da89db1891e29b14d": {
          "model_module": "@jupyter-widgets/controls",
          "model_name": "IntSliderModel",
          "model_module_version": "1.5.0",
          "state": {
            "_view_name": "IntSliderView",
            "style": "IPY_MODEL_7c3b4225a8e842a898e2b1d08afa6f64",
            "_dom_classes": [],
            "description": "nA",
            "step": 1,
            "_model_name": "IntSliderModel",
            "orientation": "horizontal",
            "max": 100,
            "_view_module": "@jupyter-widgets/controls",
            "_model_module_version": "1.5.0",
            "value": 10,
            "_view_count": null,
            "disabled": false,
            "_view_module_version": "1.5.0",
            "min": 1,
            "continuous_update": true,
            "readout_format": "d",
            "description_tooltip": null,
            "readout": true,
            "_model_module": "@jupyter-widgets/controls",
            "layout": "IPY_MODEL_db3ad2a558c04fb3b42c799e929a8166"
          }
        },
        "29f94085e0a64a56a18ad9673e0e9eb3": {
          "model_module": "@jupyter-widgets/controls",
          "model_name": "IntSliderModel",
          "model_module_version": "1.5.0",
          "state": {
            "_view_name": "IntSliderView",
            "style": "IPY_MODEL_50a32d6441c64bfb9f4f6dc8dd249719",
            "_dom_classes": [],
            "description": "nB",
            "step": 1,
            "_model_name": "IntSliderModel",
            "orientation": "horizontal",
            "max": 100,
            "_view_module": "@jupyter-widgets/controls",
            "_model_module_version": "1.5.0",
            "value": 10,
            "_view_count": null,
            "disabled": false,
            "_view_module_version": "1.5.0",
            "min": 1,
            "continuous_update": true,
            "readout_format": "d",
            "description_tooltip": null,
            "readout": true,
            "_model_module": "@jupyter-widgets/controls",
            "layout": "IPY_MODEL_d1a72065e04d405faa2410034f0ff2eb"
          }
        },
        "4edacea3af0a41d581c36042295d2894": {
          "model_module": "@jupyter-widgets/output",
          "model_name": "OutputModel",
          "model_module_version": "1.0.0",
          "state": {
            "_view_name": "OutputView",
            "msg_id": "",
            "_dom_classes": [],
            "_model_name": "OutputModel",
            "outputs": [
              {
                "output_type": "stream",
                "metadata": {
                  "tags": []
                },
                "text": "^delta = 0.3000, ^se = 0.2121\nW = 1.4142\n",
                "stream": "stdout"
              }
            ],
            "_view_module": "@jupyter-widgets/output",
            "_model_module_version": "1.0.0",
            "_view_count": null,
            "_view_module_version": "1.0.0",
            "layout": "IPY_MODEL_acba5f4c8af245ad8eda0c7b87baec83",
            "_model_module": "@jupyter-widgets/output"
          }
        },
        "8348f7739d644cc4be4efd8e9a3e088a": {
          "model_module": "@jupyter-widgets/controls",
          "model_name": "SliderStyleModel",
          "model_module_version": "1.5.0",
          "state": {
            "_view_name": "StyleView",
            "handle_color": null,
            "_model_name": "SliderStyleModel",
            "description_width": "",
            "_view_module": "@jupyter-widgets/base",
            "_model_module_version": "1.5.0",
            "_view_count": null,
            "_view_module_version": "1.2.0",
            "_model_module": "@jupyter-widgets/controls"
          }
        },
        "c602bb3365784efa8fa95e6e3308ba98": {
          "model_module": "@jupyter-widgets/base",
          "model_name": "LayoutModel",
          "model_module_version": "1.2.0",
          "state": {
            "_view_name": "LayoutView",
            "grid_template_rows": null,
            "right": null,
            "justify_content": null,
            "_view_module": "@jupyter-widgets/base",
            "overflow": null,
            "_model_module_version": "1.2.0",
            "_view_count": null,
            "flex_flow": null,
            "width": null,
            "min_width": null,
            "border": null,
            "align_items": null,
            "bottom": null,
            "_model_module": "@jupyter-widgets/base",
            "top": null,
            "grid_column": null,
            "overflow_y": null,
            "overflow_x": null,
            "grid_auto_flow": null,
            "grid_area": null,
            "grid_template_columns": null,
            "flex": null,
            "_model_name": "LayoutModel",
            "justify_items": null,
            "grid_row": null,
            "max_height": null,
            "align_content": null,
            "visibility": null,
            "align_self": null,
            "height": null,
            "min_height": null,
            "padding": null,
            "grid_auto_rows": null,
            "grid_gap": null,
            "max_width": null,
            "order": null,
            "_view_module_version": "1.2.0",
            "grid_template_areas": null,
            "object_position": null,
            "object_fit": null,
            "grid_auto_columns": null,
            "margin": null,
            "display": null,
            "left": null
          }
        },
        "5f726f6b5b174ca29e7d6b4519761fe8": {
          "model_module": "@jupyter-widgets/controls",
          "model_name": "SliderStyleModel",
          "model_module_version": "1.5.0",
          "state": {
            "_view_name": "StyleView",
            "handle_color": null,
            "_model_name": "SliderStyleModel",
            "description_width": "",
            "_view_module": "@jupyter-widgets/base",
            "_model_module_version": "1.5.0",
            "_view_count": null,
            "_view_module_version": "1.2.0",
            "_model_module": "@jupyter-widgets/controls"
          }
        },
        "d89a9c6d299a41949a15d7bd3feabf55": {
          "model_module": "@jupyter-widgets/base",
          "model_name": "LayoutModel",
          "model_module_version": "1.2.0",
          "state": {
            "_view_name": "LayoutView",
            "grid_template_rows": null,
            "right": null,
            "justify_content": null,
            "_view_module": "@jupyter-widgets/base",
            "overflow": null,
            "_model_module_version": "1.2.0",
            "_view_count": null,
            "flex_flow": null,
            "width": null,
            "min_width": null,
            "border": null,
            "align_items": null,
            "bottom": null,
            "_model_module": "@jupyter-widgets/base",
            "top": null,
            "grid_column": null,
            "overflow_y": null,
            "overflow_x": null,
            "grid_auto_flow": null,
            "grid_area": null,
            "grid_template_columns": null,
            "flex": null,
            "_model_name": "LayoutModel",
            "justify_items": null,
            "grid_row": null,
            "max_height": null,
            "align_content": null,
            "visibility": null,
            "align_self": null,
            "height": null,
            "min_height": null,
            "padding": null,
            "grid_auto_rows": null,
            "grid_gap": null,
            "max_width": null,
            "order": null,
            "_view_module_version": "1.2.0",
            "grid_template_areas": null,
            "object_position": null,
            "object_fit": null,
            "grid_auto_columns": null,
            "margin": null,
            "display": null,
            "left": null
          }
        },
        "7c3b4225a8e842a898e2b1d08afa6f64": {
          "model_module": "@jupyter-widgets/controls",
          "model_name": "SliderStyleModel",
          "model_module_version": "1.5.0",
          "state": {
            "_view_name": "StyleView",
            "handle_color": null,
            "_model_name": "SliderStyleModel",
            "description_width": "",
            "_view_module": "@jupyter-widgets/base",
            "_model_module_version": "1.5.0",
            "_view_count": null,
            "_view_module_version": "1.2.0",
            "_model_module": "@jupyter-widgets/controls"
          }
        },
        "db3ad2a558c04fb3b42c799e929a8166": {
          "model_module": "@jupyter-widgets/base",
          "model_name": "LayoutModel",
          "model_module_version": "1.2.0",
          "state": {
            "_view_name": "LayoutView",
            "grid_template_rows": null,
            "right": null,
            "justify_content": null,
            "_view_module": "@jupyter-widgets/base",
            "overflow": null,
            "_model_module_version": "1.2.0",
            "_view_count": null,
            "flex_flow": null,
            "width": null,
            "min_width": null,
            "border": null,
            "align_items": null,
            "bottom": null,
            "_model_module": "@jupyter-widgets/base",
            "top": null,
            "grid_column": null,
            "overflow_y": null,
            "overflow_x": null,
            "grid_auto_flow": null,
            "grid_area": null,
            "grid_template_columns": null,
            "flex": null,
            "_model_name": "LayoutModel",
            "justify_items": null,
            "grid_row": null,
            "max_height": null,
            "align_content": null,
            "visibility": null,
            "align_self": null,
            "height": null,
            "min_height": null,
            "padding": null,
            "grid_auto_rows": null,
            "grid_gap": null,
            "max_width": null,
            "order": null,
            "_view_module_version": "1.2.0",
            "grid_template_areas": null,
            "object_position": null,
            "object_fit": null,
            "grid_auto_columns": null,
            "margin": null,
            "display": null,
            "left": null
          }
        },
        "50a32d6441c64bfb9f4f6dc8dd249719": {
          "model_module": "@jupyter-widgets/controls",
          "model_name": "SliderStyleModel",
          "model_module_version": "1.5.0",
          "state": {
            "_view_name": "StyleView",
            "handle_color": null,
            "_model_name": "SliderStyleModel",
            "description_width": "",
            "_view_module": "@jupyter-widgets/base",
            "_model_module_version": "1.5.0",
            "_view_count": null,
            "_view_module_version": "1.2.0",
            "_model_module": "@jupyter-widgets/controls"
          }
        },
        "d1a72065e04d405faa2410034f0ff2eb": {
          "model_module": "@jupyter-widgets/base",
          "model_name": "LayoutModel",
          "model_module_version": "1.2.0",
          "state": {
            "_view_name": "LayoutView",
            "grid_template_rows": null,
            "right": null,
            "justify_content": null,
            "_view_module": "@jupyter-widgets/base",
            "overflow": null,
            "_model_module_version": "1.2.0",
            "_view_count": null,
            "flex_flow": null,
            "width": null,
            "min_width": null,
            "border": null,
            "align_items": null,
            "bottom": null,
            "_model_module": "@jupyter-widgets/base",
            "top": null,
            "grid_column": null,
            "overflow_y": null,
            "overflow_x": null,
            "grid_auto_flow": null,
            "grid_area": null,
            "grid_template_columns": null,
            "flex": null,
            "_model_name": "LayoutModel",
            "justify_items": null,
            "grid_row": null,
            "max_height": null,
            "align_content": null,
            "visibility": null,
            "align_self": null,
            "height": null,
            "min_height": null,
            "padding": null,
            "grid_auto_rows": null,
            "grid_gap": null,
            "max_width": null,
            "order": null,
            "_view_module_version": "1.2.0",
            "grid_template_areas": null,
            "object_position": null,
            "object_fit": null,
            "grid_auto_columns": null,
            "margin": null,
            "display": null,
            "left": null
          }
        },
        "acba5f4c8af245ad8eda0c7b87baec83": {
          "model_module": "@jupyter-widgets/base",
          "model_name": "LayoutModel",
          "model_module_version": "1.2.0",
          "state": {
            "_view_name": "LayoutView",
            "grid_template_rows": null,
            "right": null,
            "justify_content": null,
            "_view_module": "@jupyter-widgets/base",
            "overflow": null,
            "_model_module_version": "1.2.0",
            "_view_count": null,
            "flex_flow": null,
            "width": null,
            "min_width": null,
            "border": null,
            "align_items": null,
            "bottom": null,
            "_model_module": "@jupyter-widgets/base",
            "top": null,
            "grid_column": null,
            "overflow_y": null,
            "overflow_x": null,
            "grid_auto_flow": null,
            "grid_area": null,
            "grid_template_columns": null,
            "flex": null,
            "_model_name": "LayoutModel",
            "justify_items": null,
            "grid_row": null,
            "max_height": null,
            "align_content": null,
            "visibility": null,
            "align_self": null,
            "height": null,
            "min_height": null,
            "padding": null,
            "grid_auto_rows": null,
            "grid_gap": null,
            "max_width": null,
            "order": null,
            "_view_module_version": "1.2.0",
            "grid_template_areas": null,
            "object_position": null,
            "object_fit": null,
            "grid_auto_columns": null,
            "margin": null,
            "display": null,
            "left": null
          }
        },
        "bf2fce9cd9894d04947185ac1f7da5bd": {
          "model_module": "@jupyter-widgets/controls",
          "model_name": "VBoxModel",
          "model_module_version": "1.5.0",
          "state": {
            "_view_name": "VBoxView",
            "_dom_classes": [
              "widget-interact"
            ],
            "_model_name": "VBoxModel",
            "_view_module": "@jupyter-widgets/controls",
            "_model_module_version": "1.5.0",
            "_view_count": null,
            "_view_module_version": "1.5.0",
            "box_style": "",
            "layout": "IPY_MODEL_0eb640702f6d4906ba34f5522f489246",
            "_model_module": "@jupyter-widgets/controls",
            "children": [
              "IPY_MODEL_0d7c3a5322d145b295cc7e3b243a4936",
              "IPY_MODEL_c5b7d2cfa29a46a9b14f3569773f101a"
            ]
          }
        },
        "0eb640702f6d4906ba34f5522f489246": {
          "model_module": "@jupyter-widgets/base",
          "model_name": "LayoutModel",
          "model_module_version": "1.2.0",
          "state": {
            "_view_name": "LayoutView",
            "grid_template_rows": null,
            "right": null,
            "justify_content": null,
            "_view_module": "@jupyter-widgets/base",
            "overflow": null,
            "_model_module_version": "1.2.0",
            "_view_count": null,
            "flex_flow": null,
            "width": null,
            "min_width": null,
            "border": null,
            "align_items": null,
            "bottom": null,
            "_model_module": "@jupyter-widgets/base",
            "top": null,
            "grid_column": null,
            "overflow_y": null,
            "overflow_x": null,
            "grid_auto_flow": null,
            "grid_area": null,
            "grid_template_columns": null,
            "flex": null,
            "_model_name": "LayoutModel",
            "justify_items": null,
            "grid_row": null,
            "max_height": null,
            "align_content": null,
            "visibility": null,
            "align_self": null,
            "height": null,
            "min_height": null,
            "padding": null,
            "grid_auto_rows": null,
            "grid_gap": null,
            "max_width": null,
            "order": null,
            "_view_module_version": "1.2.0",
            "grid_template_areas": null,
            "object_position": null,
            "object_fit": null,
            "grid_auto_columns": null,
            "margin": null,
            "display": null,
            "left": null
          }
        },
        "0d7c3a5322d145b295cc7e3b243a4936": {
          "model_module": "@jupyter-widgets/controls",
          "model_name": "FloatSliderModel",
          "model_module_version": "1.5.0",
          "state": {
            "_view_name": "FloatSliderView",
            "style": "IPY_MODEL_4bd7f24788ea4efab0016a028fd7dcd5",
            "_dom_classes": [],
            "description": "alpha",
            "step": 0.01,
            "_model_name": "FloatSliderModel",
            "orientation": "horizontal",
            "max": 1,
            "_view_module": "@jupyter-widgets/controls",
            "_model_module_version": "1.5.0",
            "value": 0.05,
            "_view_count": null,
            "disabled": false,
            "_view_module_version": "1.5.0",
            "min": 0.05,
            "continuous_update": true,
            "readout_format": ".2f",
            "description_tooltip": null,
            "readout": true,
            "_model_module": "@jupyter-widgets/controls",
            "layout": "IPY_MODEL_00c236047bcb4bcc9c7839a07de31c0f"
          }
        },
        "c5b7d2cfa29a46a9b14f3569773f101a": {
          "model_module": "@jupyter-widgets/output",
          "model_name": "OutputModel",
          "model_module_version": "1.0.0",
          "state": {
            "_view_name": "OutputView",
            "msg_id": "",
            "_dom_classes": [],
            "_model_name": "OutputModel",
            "outputs": [
              {
                "output_type": "display_data",
                "metadata": {
                  "tags": [],
                  "needs_background": "light"
                },
                "image/png": "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\n",
                "text/plain": "<Figure size 432x288 with 1 Axes>"
              }
            ],
            "_view_module": "@jupyter-widgets/output",
            "_model_module_version": "1.0.0",
            "_view_count": null,
            "_view_module_version": "1.0.0",
            "layout": "IPY_MODEL_9454272bf44c4035a3c34985aa4e05b4",
            "_model_module": "@jupyter-widgets/output"
          }
        },
        "4bd7f24788ea4efab0016a028fd7dcd5": {
          "model_module": "@jupyter-widgets/controls",
          "model_name": "SliderStyleModel",
          "model_module_version": "1.5.0",
          "state": {
            "_view_name": "StyleView",
            "handle_color": null,
            "_model_name": "SliderStyleModel",
            "description_width": "",
            "_view_module": "@jupyter-widgets/base",
            "_model_module_version": "1.5.0",
            "_view_count": null,
            "_view_module_version": "1.2.0",
            "_model_module": "@jupyter-widgets/controls"
          }
        },
        "00c236047bcb4bcc9c7839a07de31c0f": {
          "model_module": "@jupyter-widgets/base",
          "model_name": "LayoutModel",
          "model_module_version": "1.2.0",
          "state": {
            "_view_name": "LayoutView",
            "grid_template_rows": null,
            "right": null,
            "justify_content": null,
            "_view_module": "@jupyter-widgets/base",
            "overflow": null,
            "_model_module_version": "1.2.0",
            "_view_count": null,
            "flex_flow": null,
            "width": null,
            "min_width": null,
            "border": null,
            "align_items": null,
            "bottom": null,
            "_model_module": "@jupyter-widgets/base",
            "top": null,
            "grid_column": null,
            "overflow_y": null,
            "overflow_x": null,
            "grid_auto_flow": null,
            "grid_area": null,
            "grid_template_columns": null,
            "flex": null,
            "_model_name": "LayoutModel",
            "justify_items": null,
            "grid_row": null,
            "max_height": null,
            "align_content": null,
            "visibility": null,
            "align_self": null,
            "height": null,
            "min_height": null,
            "padding": null,
            "grid_auto_rows": null,
            "grid_gap": null,
            "max_width": null,
            "order": null,
            "_view_module_version": "1.2.0",
            "grid_template_areas": null,
            "object_position": null,
            "object_fit": null,
            "grid_auto_columns": null,
            "margin": null,
            "display": null,
            "left": null
          }
        },
        "9454272bf44c4035a3c34985aa4e05b4": {
          "model_module": "@jupyter-widgets/base",
          "model_name": "LayoutModel",
          "model_module_version": "1.2.0",
          "state": {
            "_view_name": "LayoutView",
            "grid_template_rows": null,
            "right": null,
            "justify_content": null,
            "_view_module": "@jupyter-widgets/base",
            "overflow": null,
            "_model_module_version": "1.2.0",
            "_view_count": null,
            "flex_flow": null,
            "width": null,
            "min_width": null,
            "border": null,
            "align_items": null,
            "bottom": null,
            "_model_module": "@jupyter-widgets/base",
            "top": null,
            "grid_column": null,
            "overflow_y": null,
            "overflow_x": null,
            "grid_auto_flow": null,
            "grid_area": null,
            "grid_template_columns": null,
            "flex": null,
            "_model_name": "LayoutModel",
            "justify_items": null,
            "grid_row": null,
            "max_height": null,
            "align_content": null,
            "visibility": null,
            "align_self": null,
            "height": null,
            "min_height": null,
            "padding": null,
            "grid_auto_rows": null,
            "grid_gap": null,
            "max_width": null,
            "order": null,
            "_view_module_version": "1.2.0",
            "grid_template_areas": null,
            "object_position": null,
            "object_fit": null,
            "grid_auto_columns": null,
            "margin": null,
            "display": null,
            "left": null
          }
        },
        "efbd7456384c461b88f67647da2a5d9b": {
          "model_module": "@jupyter-widgets/controls",
          "model_name": "VBoxModel",
          "model_module_version": "1.5.0",
          "state": {
            "_view_name": "VBoxView",
            "_dom_classes": [
              "widget-interact"
            ],
            "_model_name": "VBoxModel",
            "_view_module": "@jupyter-widgets/controls",
            "_model_module_version": "1.5.0",
            "_view_count": null,
            "_view_module_version": "1.5.0",
            "box_style": "",
            "layout": "IPY_MODEL_8e5047a3baf54f2cb189a899f6e154de",
            "_model_module": "@jupyter-widgets/controls",
            "children": [
              "IPY_MODEL_e165f7f29b204ef7a9ac521f778e1187",
              "IPY_MODEL_c2f8f6c3acd74b429aaa2d7983f067ff",
              "IPY_MODEL_23984bc8ffde43d6a7972df71e142ad4",
              "IPY_MODEL_ff0b676f4f7f4792a6d09079b9943a29",
              "IPY_MODEL_59f396d6efeb48e3a588b8fab49b450a"
            ]
          }
        },
        "8e5047a3baf54f2cb189a899f6e154de": {
          "model_module": "@jupyter-widgets/base",
          "model_name": "LayoutModel",
          "model_module_version": "1.2.0",
          "state": {
            "_view_name": "LayoutView",
            "grid_template_rows": null,
            "right": null,
            "justify_content": null,
            "_view_module": "@jupyter-widgets/base",
            "overflow": null,
            "_model_module_version": "1.2.0",
            "_view_count": null,
            "flex_flow": null,
            "width": null,
            "min_width": null,
            "border": null,
            "align_items": null,
            "bottom": null,
            "_model_module": "@jupyter-widgets/base",
            "top": null,
            "grid_column": null,
            "overflow_y": null,
            "overflow_x": null,
            "grid_auto_flow": null,
            "grid_area": null,
            "grid_template_columns": null,
            "flex": null,
            "_model_name": "LayoutModel",
            "justify_items": null,
            "grid_row": null,
            "max_height": null,
            "align_content": null,
            "visibility": null,
            "align_self": null,
            "height": null,
            "min_height": null,
            "padding": null,
            "grid_auto_rows": null,
            "grid_gap": null,
            "max_width": null,
            "order": null,
            "_view_module_version": "1.2.0",
            "grid_template_areas": null,
            "object_position": null,
            "object_fit": null,
            "grid_auto_columns": null,
            "margin": null,
            "display": null,
            "left": null
          }
        },
        "e165f7f29b204ef7a9ac521f778e1187": {
          "model_module": "@jupyter-widgets/controls",
          "model_name": "FloatSliderModel",
          "model_module_version": "1.5.0",
          "state": {
            "_view_name": "FloatSliderView",
            "style": "IPY_MODEL_7b8906917a1b447280594776224bd622",
            "_dom_classes": [],
            "description": "p_a",
            "step": 0.01,
            "_model_name": "FloatSliderModel",
            "orientation": "horizontal",
            "max": 1,
            "_view_module": "@jupyter-widgets/controls",
            "_model_module_version": "1.5.0",
            "value": 0.5,
            "_view_count": null,
            "disabled": false,
            "_view_module_version": "1.5.0",
            "min": 0.01,
            "continuous_update": true,
            "readout_format": ".2f",
            "description_tooltip": null,
            "readout": true,
            "_model_module": "@jupyter-widgets/controls",
            "layout": "IPY_MODEL_b42daaad5e3b4e2d837b546adf1c731f"
          }
        },
        "c2f8f6c3acd74b429aaa2d7983f067ff": {
          "model_module": "@jupyter-widgets/controls",
          "model_name": "FloatSliderModel",
          "model_module_version": "1.5.0",
          "state": {
            "_view_name": "FloatSliderView",
            "style": "IPY_MODEL_3e38ac62fa4c42e286e86f85ffcc1cd8",
            "_dom_classes": [],
            "description": "p_b",
            "step": 0.01,
            "_model_name": "FloatSliderModel",
            "orientation": "horizontal",
            "max": 1,
            "_view_module": "@jupyter-widgets/controls",
            "_model_module_version": "1.5.0",
            "value": 0.4,
            "_view_count": null,
            "disabled": false,
            "_view_module_version": "1.5.0",
            "min": 0.01,
            "continuous_update": true,
            "readout_format": ".2f",
            "description_tooltip": null,
            "readout": true,
            "_model_module": "@jupyter-widgets/controls",
            "layout": "IPY_MODEL_7d8e668dabe44f5fa33fdc4ea0a77ae1"
          }
        },
        "23984bc8ffde43d6a7972df71e142ad4": {
          "model_module": "@jupyter-widgets/controls",
          "model_name": "IntSliderModel",
          "model_module_version": "1.5.0",
          "state": {
            "_view_name": "IntSliderView",
            "style": "IPY_MODEL_7b4368fb90d64889840ee6dc907a98d1",
            "_dom_classes": [],
            "description": "N_A",
            "step": 1,
            "_model_name": "IntSliderModel",
            "orientation": "horizontal",
            "max": 100,
            "_view_module": "@jupyter-widgets/controls",
            "_model_module_version": "1.5.0",
            "value": 10,
            "_view_count": null,
            "disabled": false,
            "_view_module_version": "1.5.0",
            "min": 1,
            "continuous_update": true,
            "readout_format": "d",
            "description_tooltip": null,
            "readout": true,
            "_model_module": "@jupyter-widgets/controls",
            "layout": "IPY_MODEL_3ab7140fb04047859662c2b55e6a692e"
          }
        },
        "ff0b676f4f7f4792a6d09079b9943a29": {
          "model_module": "@jupyter-widgets/controls",
          "model_name": "IntSliderModel",
          "model_module_version": "1.5.0",
          "state": {
            "_view_name": "IntSliderView",
            "style": "IPY_MODEL_f254434441734321887177b29ac6bfe8",
            "_dom_classes": [],
            "description": "N_B",
            "step": 1,
            "_model_name": "IntSliderModel",
            "orientation": "horizontal",
            "max": 100,
            "_view_module": "@jupyter-widgets/controls",
            "_model_module_version": "1.5.0",
            "value": 10,
            "_view_count": null,
            "disabled": false,
            "_view_module_version": "1.5.0",
            "min": 1,
            "continuous_update": true,
            "readout_format": "d",
            "description_tooltip": null,
            "readout": true,
            "_model_module": "@jupyter-widgets/controls",
            "layout": "IPY_MODEL_d7e741d20b194c2ca66999011a2ee2c7"
          }
        },
        "59f396d6efeb48e3a588b8fab49b450a": {
          "model_module": "@jupyter-widgets/output",
          "model_name": "OutputModel",
          "model_module_version": "1.0.0",
          "state": {
            "_view_name": "OutputView",
            "msg_id": "",
            "_dom_classes": [],
            "_model_name": "OutputModel",
            "outputs": [
              {
                "output_type": "stream",
                "metadata": {
                  "tags": []
                },
                "text": "^delta = 0.1000, ^se = 0.2214\nW = 0.4518\n",
                "stream": "stdout"
              },
              {
                "output_type": "display_data",
                "metadata": {
                  "tags": [],
                  "needs_background": "light"
                },
                "image/png": "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\n",
                "text/plain": "<Figure size 1008x504 with 2 Axes>"
              }
            ],
            "_view_module": "@jupyter-widgets/output",
            "_model_module_version": "1.0.0",
            "_view_count": null,
            "_view_module_version": "1.0.0",
            "layout": "IPY_MODEL_c382a7aed44345b5b5b4de812679ca69",
            "_model_module": "@jupyter-widgets/output"
          }
        },
        "7b8906917a1b447280594776224bd622": {
          "model_module": "@jupyter-widgets/controls",
          "model_name": "SliderStyleModel",
          "model_module_version": "1.5.0",
          "state": {
            "_view_name": "StyleView",
            "handle_color": null,
            "_model_name": "SliderStyleModel",
            "description_width": "",
            "_view_module": "@jupyter-widgets/base",
            "_model_module_version": "1.5.0",
            "_view_count": null,
            "_view_module_version": "1.2.0",
            "_model_module": "@jupyter-widgets/controls"
          }
        },
        "b42daaad5e3b4e2d837b546adf1c731f": {
          "model_module": "@jupyter-widgets/base",
          "model_name": "LayoutModel",
          "model_module_version": "1.2.0",
          "state": {
            "_view_name": "LayoutView",
            "grid_template_rows": null,
            "right": null,
            "justify_content": null,
            "_view_module": "@jupyter-widgets/base",
            "overflow": null,
            "_model_module_version": "1.2.0",
            "_view_count": null,
            "flex_flow": null,
            "width": null,
            "min_width": null,
            "border": null,
            "align_items": null,
            "bottom": null,
            "_model_module": "@jupyter-widgets/base",
            "top": null,
            "grid_column": null,
            "overflow_y": null,
            "overflow_x": null,
            "grid_auto_flow": null,
            "grid_area": null,
            "grid_template_columns": null,
            "flex": null,
            "_model_name": "LayoutModel",
            "justify_items": null,
            "grid_row": null,
            "max_height": null,
            "align_content": null,
            "visibility": null,
            "align_self": null,
            "height": null,
            "min_height": null,
            "padding": null,
            "grid_auto_rows": null,
            "grid_gap": null,
            "max_width": null,
            "order": null,
            "_view_module_version": "1.2.0",
            "grid_template_areas": null,
            "object_position": null,
            "object_fit": null,
            "grid_auto_columns": null,
            "margin": null,
            "display": null,
            "left": null
          }
        },
        "3e38ac62fa4c42e286e86f85ffcc1cd8": {
          "model_module": "@jupyter-widgets/controls",
          "model_name": "SliderStyleModel",
          "model_module_version": "1.5.0",
          "state": {
            "_view_name": "StyleView",
            "handle_color": null,
            "_model_name": "SliderStyleModel",
            "description_width": "",
            "_view_module": "@jupyter-widgets/base",
            "_model_module_version": "1.5.0",
            "_view_count": null,
            "_view_module_version": "1.2.0",
            "_model_module": "@jupyter-widgets/controls"
          }
        },
        "7d8e668dabe44f5fa33fdc4ea0a77ae1": {
          "model_module": "@jupyter-widgets/base",
          "model_name": "LayoutModel",
          "model_module_version": "1.2.0",
          "state": {
            "_view_name": "LayoutView",
            "grid_template_rows": null,
            "right": null,
            "justify_content": null,
            "_view_module": "@jupyter-widgets/base",
            "overflow": null,
            "_model_module_version": "1.2.0",
            "_view_count": null,
            "flex_flow": null,
            "width": null,
            "min_width": null,
            "border": null,
            "align_items": null,
            "bottom": null,
            "_model_module": "@jupyter-widgets/base",
            "top": null,
            "grid_column": null,
            "overflow_y": null,
            "overflow_x": null,
            "grid_auto_flow": null,
            "grid_area": null,
            "grid_template_columns": null,
            "flex": null,
            "_model_name": "LayoutModel",
            "justify_items": null,
            "grid_row": null,
            "max_height": null,
            "align_content": null,
            "visibility": null,
            "align_self": null,
            "height": null,
            "min_height": null,
            "padding": null,
            "grid_auto_rows": null,
            "grid_gap": null,
            "max_width": null,
            "order": null,
            "_view_module_version": "1.2.0",
            "grid_template_areas": null,
            "object_position": null,
            "object_fit": null,
            "grid_auto_columns": null,
            "margin": null,
            "display": null,
            "left": null
          }
        },
        "7b4368fb90d64889840ee6dc907a98d1": {
          "model_module": "@jupyter-widgets/controls",
          "model_name": "SliderStyleModel",
          "model_module_version": "1.5.0",
          "state": {
            "_view_name": "StyleView",
            "handle_color": null,
            "_model_name": "SliderStyleModel",
            "description_width": "",
            "_view_module": "@jupyter-widgets/base",
            "_model_module_version": "1.5.0",
            "_view_count": null,
            "_view_module_version": "1.2.0",
            "_model_module": "@jupyter-widgets/controls"
          }
        },
        "3ab7140fb04047859662c2b55e6a692e": {
          "model_module": "@jupyter-widgets/base",
          "model_name": "LayoutModel",
          "model_module_version": "1.2.0",
          "state": {
            "_view_name": "LayoutView",
            "grid_template_rows": null,
            "right": null,
            "justify_content": null,
            "_view_module": "@jupyter-widgets/base",
            "overflow": null,
            "_model_module_version": "1.2.0",
            "_view_count": null,
            "flex_flow": null,
            "width": null,
            "min_width": null,
            "border": null,
            "align_items": null,
            "bottom": null,
            "_model_module": "@jupyter-widgets/base",
            "top": null,
            "grid_column": null,
            "overflow_y": null,
            "overflow_x": null,
            "grid_auto_flow": null,
            "grid_area": null,
            "grid_template_columns": null,
            "flex": null,
            "_model_name": "LayoutModel",
            "justify_items": null,
            "grid_row": null,
            "max_height": null,
            "align_content": null,
            "visibility": null,
            "align_self": null,
            "height": null,
            "min_height": null,
            "padding": null,
            "grid_auto_rows": null,
            "grid_gap": null,
            "max_width": null,
            "order": null,
            "_view_module_version": "1.2.0",
            "grid_template_areas": null,
            "object_position": null,
            "object_fit": null,
            "grid_auto_columns": null,
            "margin": null,
            "display": null,
            "left": null
          }
        },
        "f254434441734321887177b29ac6bfe8": {
          "model_module": "@jupyter-widgets/controls",
          "model_name": "SliderStyleModel",
          "model_module_version": "1.5.0",
          "state": {
            "_view_name": "StyleView",
            "handle_color": null,
            "_model_name": "SliderStyleModel",
            "description_width": "",
            "_view_module": "@jupyter-widgets/base",
            "_model_module_version": "1.5.0",
            "_view_count": null,
            "_view_module_version": "1.2.0",
            "_model_module": "@jupyter-widgets/controls"
          }
        },
        "d7e741d20b194c2ca66999011a2ee2c7": {
          "model_module": "@jupyter-widgets/base",
          "model_name": "LayoutModel",
          "model_module_version": "1.2.0",
          "state": {
            "_view_name": "LayoutView",
            "grid_template_rows": null,
            "right": null,
            "justify_content": null,
            "_view_module": "@jupyter-widgets/base",
            "overflow": null,
            "_model_module_version": "1.2.0",
            "_view_count": null,
            "flex_flow": null,
            "width": null,
            "min_width": null,
            "border": null,
            "align_items": null,
            "bottom": null,
            "_model_module": "@jupyter-widgets/base",
            "top": null,
            "grid_column": null,
            "overflow_y": null,
            "overflow_x": null,
            "grid_auto_flow": null,
            "grid_area": null,
            "grid_template_columns": null,
            "flex": null,
            "_model_name": "LayoutModel",
            "justify_items": null,
            "grid_row": null,
            "max_height": null,
            "align_content": null,
            "visibility": null,
            "align_self": null,
            "height": null,
            "min_height": null,
            "padding": null,
            "grid_auto_rows": null,
            "grid_gap": null,
            "max_width": null,
            "order": null,
            "_view_module_version": "1.2.0",
            "grid_template_areas": null,
            "object_position": null,
            "object_fit": null,
            "grid_auto_columns": null,
            "margin": null,
            "display": null,
            "left": null
          }
        },
        "c382a7aed44345b5b5b4de812679ca69": {
          "model_module": "@jupyter-widgets/base",
          "model_name": "LayoutModel",
          "model_module_version": "1.2.0",
          "state": {
            "_view_name": "LayoutView",
            "grid_template_rows": null,
            "right": null,
            "justify_content": null,
            "_view_module": "@jupyter-widgets/base",
            "overflow": null,
            "_model_module_version": "1.2.0",
            "_view_count": null,
            "flex_flow": null,
            "width": null,
            "min_width": null,
            "border": null,
            "align_items": null,
            "bottom": null,
            "_model_module": "@jupyter-widgets/base",
            "top": null,
            "grid_column": null,
            "overflow_y": null,
            "overflow_x": null,
            "grid_auto_flow": null,
            "grid_area": null,
            "grid_template_columns": null,
            "flex": null,
            "_model_name": "LayoutModel",
            "justify_items": null,
            "grid_row": null,
            "max_height": null,
            "align_content": null,
            "visibility": null,
            "align_self": null,
            "height": null,
            "min_height": null,
            "padding": null,
            "grid_auto_rows": null,
            "grid_gap": null,
            "max_width": null,
            "order": null,
            "_view_module_version": "1.2.0",
            "grid_template_areas": null,
            "object_position": null,
            "object_fit": null,
            "grid_auto_columns": null,
            "margin": null,
            "display": null,
            "left": null
          }
        }
      }
    }
  },
  "cells": [
    {
      "cell_type": "markdown",
      "metadata": {
        "id": "view-in-github",
        "colab_type": "text"
      },
      "source": [
        "<a href=\"https://colab.research.google.com/github/mayabayati/Algorithms/blob/master/hyp_testing_JOLT_Wald_test.ipynb\" target=\"_parent\"><img src=\"https://colab.research.google.com/assets/colab-badge.svg\" alt=\"Open In Colab\"/></a>"
      ]
    },
    {
      "cell_type": "markdown",
      "metadata": {
        "id": "CyDYivHBz7q9"
      },
      "source": [
        "# Hypothesis Testing JOLT\n",
        "\n",
        "George Lifchits Sep 2020, originally downloaded from [this link](https://www.cs.toronto.edu/~glifchits/public/hyp%20testing%20JOLT%20-%20Wald%20test.html), edited by Yuya Asano Apr 2021.\n",
        "\n",
        "This notebook draws heavily on material from _Wasserman - All of Statistics (2004)_ chapter 10.1 and 10.2.  \n",
        "Access to this chapter should be available to anyone with a UofT login at [this link](https://link-springer-com.myaccess.library.utoronto.ca/chapter/10.1007/978-0-387-21736-9_10)\n",
        "\n",
        "**Before running this notebook, please download it from File > Save a Copy in Drive at the top left so that other people can see a clean notebook.**\n",
        "\n",
        "**This notebook has interactive features.**  Sections with `@interact` code blocks can be run with `ipywidgets`, which provides slider bars which let you play with parameters and see graphs change.\n",
        "\n",
        "**You do NOT have to understand code in this notebook to understand statistics!** The code is there just to simulate and illustrate examples."
      ]
    },
    {
      "cell_type": "markdown",
      "metadata": {
        "id": "GpNc3klOz7rC"
      },
      "source": [
        "## Begin the JOLT here"
      ]
    },
    {
      "cell_type": "code",
      "metadata": {
        "id": "8BTVpF4ez7rD"
      },
      "source": [
        "import numpy as np\n",
        "from scipy import stats\n",
        "import matplotlib.pyplot as plt\n",
        "from ipywidgets import interact\n",
        "%matplotlib inline"
      ],
      "execution_count": null,
      "outputs": []
    },
    {
      "cell_type": "code",
      "metadata": {
        "id": "sMG4-b6uuuyV"
      },
      "source": [],
      "execution_count": null,
      "outputs": []
    },
    {
      "cell_type": "code",
      "metadata": {
        "id": "ducQFitfz7rD"
      },
      "source": [
        "np.random.seed(1)"
      ],
      "execution_count": null,
      "outputs": []
    },
    {
      "cell_type": "markdown",
      "metadata": {
        "id": "6lml7QmPz7rD"
      },
      "source": [
        "## The experiment\n",
        "\n",
        "Suppose we are providing math students with explanations for a particular problem. After the student reads the explanation they can rate it as either \"good\" or \"bad\". Of course, we want to provide students with the best explanations so we want to learn whether one explanation is better than another one.\n",
        "\n",
        "Let's call our two explanations $A$ and $B$, and suppose they have an underlying true probability of being rated \"good\" to be $p_A=0.6$ and $p_B=0.3$ – but, we do not know this underlying true probability.\n",
        "\n",
        "We provided these explanations to students in an experiment:"
      ]
    },
    {
      "cell_type": "code",
      "metadata": {
        "id": "V44yU3hXz7rE"
      },
      "source": [
        "exp_A = stats.bernoulli.rvs(p=0.4, size=30)\n",
        "exp_B = stats.bernoulli.rvs(p=0.5, size=20)"
      ],
      "execution_count": null,
      "outputs": []
    },
    {
      "cell_type": "markdown",
      "metadata": {
        "id": "MEdrO-zRz7rE"
      },
      "source": [
        "After the experiment, we collected these ratings from students. 1 is \"good\" and 0 is \"bad\".\n",
        "\n",
        "For the first explanation $A$ we got:"
      ]
    },
    {
      "cell_type": "code",
      "metadata": {
        "id": "xkSxygeXz7rE",
        "colab": {
          "base_uri": "https://localhost:8080/"
        },
        "outputId": "850bf1c6-8996-4225-8aa0-0a08d866a35a"
      },
      "source": [
        "exp_A"
      ],
      "execution_count": null,
      "outputs": [
        {
          "output_type": "execute_result",
          "data": {
            "text/plain": [
              "array([1, 1, 0, 1, 0, 0, 0, 0, 0, 1, 1, 0, 0, 0, 0, 0, 1, 0, 0, 0, 1, 0,\n",
              "       1, 1, 0, 0, 0, 0, 0, 0])"
            ]
          },
          "metadata": {},
          "execution_count": 4
        }
      ]
    },
    {
      "cell_type": "markdown",
      "metadata": {
        "id": "WkpPFyfJz7rF"
      },
      "source": [
        "For the other explanation $B$ we got:"
      ]
    },
    {
      "cell_type": "code",
      "metadata": {
        "id": "xZ9SU2Wlz7rF",
        "colab": {
          "base_uri": "https://localhost:8080/"
        },
        "outputId": "59f2f247-56fb-4e1f-f162-4c7505ea5562"
      },
      "source": [
        "exp_B"
      ],
      "execution_count": null,
      "outputs": [
        {
          "output_type": "execute_result",
          "data": {
            "text/plain": [
              "array([1, 1, 1, 0, 1, 0, 0, 0, 0, 1, 1, 1, 1, 0, 1, 0, 1, 0, 1, 0])"
            ]
          },
          "metadata": {},
          "execution_count": 5
        }
      ]
    },
    {
      "cell_type": "markdown",
      "metadata": {
        "id": "rLaCAiSWz7rG"
      },
      "source": [
        "## What does the experiment show?\n",
        "\n",
        "First lets compute the means of the experiment outcomes, and their standard errors."
      ]
    },
    {
      "cell_type": "code",
      "metadata": {
        "id": "4LFNcPjBz7rG",
        "colab": {
          "base_uri": "https://localhost:8080/"
        },
        "outputId": "b7e39901-cbc1-4ffd-d64d-7516026ebd15"
      },
      "source": [
        "p_a = exp_A.mean()\n",
        "p_b = exp_B.mean()\n",
        "N_A = len(exp_A)\n",
        "N_B = len(exp_B)\n",
        "se_a = np.sqrt((p_a*(1-p_a))/N_A)\n",
        "se_b = np.sqrt((p_b*(1-p_b))/N_B)\n",
        "print(p_a, p_b)"
      ],
      "execution_count": null,
      "outputs": [
        {
          "output_type": "stream",
          "name": "stdout",
          "text": [
            "0.3 0.55\n"
          ]
        }
      ]
    },
    {
      "cell_type": "markdown",
      "metadata": {
        "id": "H1RHlYn_z7rG"
      },
      "source": [
        "Now let's visualize the data.  We plot the mean outcomes as well as the standard error of the means, to illustrate uncertainty about the measurement."
      ]
    },
    {
      "cell_type": "code",
      "metadata": {
        "id": "G9-H7GABz7rG",
        "colab": {
          "base_uri": "https://localhost:8080/",
          "height": 265
        },
        "outputId": "676ed25d-3ec4-4af6-e4a9-68c963fac7ef"
      },
      "source": [
        "# Making a bar for explanation A\n",
        "plt.bar(x=0, height=p_a)\n",
        "plt.errorbar(x=0, y=p_a, yerr=se_a, color='black', capsize=5, linewidth=1)\n",
        "fd = {'fontweight':'bold', 'fontsize': 14, 'color': 'white'}\n",
        "plt.text(0, 0.15, f\"mean = {p_a:.2f}\\nN = {N_A}\", \n",
        "         horizontalalignment=\"center\", fontdict=fd)\n",
        "\n",
        "# Making a bar for explanation B\n",
        "plt.bar(x=1, height=p_b)\n",
        "plt.errorbar(x=1, y=p_b, yerr=se_b, color='black', capsize=5, linewidth=1)\n",
        "plt.text(1, 0.10, f\"mean = {p_b:.2f}\\nN = {N_B}\", \n",
        "         horizontalalignment=\"center\", fontdict=fd)\n",
        "\n",
        "# Adding labels to the plot\n",
        "plt.xticks([0, 1], labels=['Explanation A', 'Explanation B'])\n",
        "plt.ylabel(\"Mean explanation success\");"
      ],
      "execution_count": null,
      "outputs": [
        {
          "output_type": "display_data",
          "data": {
            "text/plain": [
              "<Figure size 432x288 with 1 Axes>"
            ],
            "image/png": "[encoded data removed]"
          },
          "metadata": {
            "needs_background": "light"
          }
        }
      ]
    },
    {
      "cell_type": "markdown",
      "metadata": {
        "id": "893N_1byz7rG"
      },
      "source": [
        "Visualizing the data, it seems as though explanation A is better than B.  The error bars which indicate standard error of the mean even seem to support this claim.\n",
        "\n",
        "_However_, these are random quantities.  If we collected more data, the graph might show a different result.\n",
        "\n",
        "How can we _prove_ whether one explanation is in fact better than the other?"
      ]
    },
    {
      "cell_type": "markdown",
      "metadata": {
        "id": "TZbkZ_6Vz7rH"
      },
      "source": [
        "## Forming hypotheses\n",
        "\n",
        "Recall that we **don't know** $p_A$ and $p_B$: all we have is the data collected after our experiment.\n",
        "\n",
        "A simple question we can ask is: \"is one explanation better than the other?\" We can try to answer this with hypothesis testing.\n",
        "\n",
        "Similar to a legal trial where we say \"innocent until proven guilty,\" the null hypothesis always assumes \"innocence\" unless the evidence allows us to confidently **reject** the idea of innocence in favour of the alternative hypothesis.\n",
        "\n",
        "### Identify the hypotheses\n",
        "\n",
        "Our default assumption is the boring and uninteresting one which states that the two explanations are equally effective:\n",
        "$$\\text{default} : p_A = p_B$$\n",
        "\n",
        "Therefore, our alternative should encompass all other possibilities:\n",
        "$$\\text{alternative} : p_A \\neq p_B$$\n",
        "\n",
        "### Formalizing the null and alternative hypotheses\n",
        "\n",
        "These are good, but there are two parameters being looked at here (that is, the means of each explanation).  With hypothesis testing it is usually easier to test one single parameter at a time.  So we find a way to combine these two values into one.\n",
        "\n",
        "If $p_A = p_B$ then $p_A - p_B = 0$.  Call the difference $\\delta = p_A - p_B$.  Now $\\delta$ is a single value that we can test.  Great!\n",
        "\n",
        "Our null hypothesis ($H_0$) is therefore the test that there is _no difference in means_:\n",
        "$$H_0 : \\delta = 0$$\n",
        "\n",
        "Therefore, our alternative hypothesis ($H_1$) is the test that there **is** a difference in means:\n",
        "$$H_1 : \\delta \\neq 0$$\n",
        "\n",
        "### How do we answer the question with our evidence?\n",
        "\n",
        "If our null hypothesis $H_0$ were *correct*, then the answer to our question is that both explanations are the same, and so one is not better than the other. But if the alternative hypothesis $H_1$ was correct, then our answer would be that yes, one explanation *is* better than the other one.\n",
        "\n",
        "We should use the data that we collected as *evidence* that supports either $H_0$ or $H_1$.  To make use of this we must make some statistical assumptions.\n",
        "\n",
        "Suppose we had infinite data — if we think its reasonable that the test parameter is taken from a Normal (Gaussian; bell-curve) distribution, then we can make use of the **Wald test**.\n",
        "\n",
        "In our example, we are interested in the **difference in means** of the data, so this assumption is reasonable.  (See the appendix section [\"Assuming Normality\"](#Exploring-Bernoulli-distribution,-deriving-Binomial,-assuming-Normality) to understand why this is a fair assumption for our data.)"
      ]
    },
    {
      "cell_type": "markdown",
      "metadata": {
        "id": "F264KRLXz7rH"
      },
      "source": [
        "## The Wald Test\n",
        "\n",
        "In general, for any test parameter $\\theta$ which is asymptotically Normal, the Wald test is a valid hypothesis test we can perform.\n",
        "\n",
        "First compute the value $W = \\frac{\\hat{\\theta} - \\theta_0}{\\hat{se}}$. If $|W| > z_{\\alpha/2}$ then you can reject the null hypothesis!\n",
        "\n",
        "Let's run the computation for our example and see what this means.\n",
        "\n",
        "### Computing the test parameter\n",
        "\n",
        "Our test parameter is $\\hat{\\delta} = \\hat{p_A} - \\hat{p_B}$, which is the _sample difference in means_. \n",
        "\n",
        "> The ^ \"hats\" denotes a sample quantity (what we actually observed -- an \"estimate\" of the theoretical value). \n",
        "> No hat refers to a theoretical quantity (which will forever be unknown, since it requires infinite data)"
      ]
    },
    {
      "cell_type": "code",
      "metadata": {
        "id": "gn4odlxhz7rI",
        "colab": {
          "base_uri": "https://localhost:8080/"
        },
        "outputId": "068e0178-dcc6-4e4c-a8ac-efa8d8bef654"
      },
      "source": [
        "delta = p_a - p_b\n",
        "print(f'^delta = {delta:.4f}')"
      ],
      "execution_count": null,
      "outputs": [
        {
          "output_type": "stream",
          "name": "stdout",
          "text": [
            "^delta = -0.1667\n"
          ]
        }
      ]
    },
    {
      "cell_type": "markdown",
      "metadata": {
        "id": "4X-dlgLHz7rI"
      },
      "source": [
        "### Compute the sample standard error\n",
        "\n",
        "Now that we're dealing with a difference in means, it's not the same standard error calculation as before. This time, it is computed as follows:\n",
        "$$\\hat{se} = \\sqrt{ \\frac{\\hat{p_A}(1-\\hat{p_A})}{N_A} + \\frac{\\hat{p_B}(1-\\hat{p_B})}{N_B}}$$"
      ]
    },
    {
      "cell_type": "code",
      "metadata": {
        "id": "y1ROtSMPz7rI",
        "colab": {
          "base_uri": "https://localhost:8080/"
        },
        "outputId": "aac12e17-d137-468f-9a4a-c07d6d9acb3f"
      },
      "source": [
        "se = np.sqrt((p_a*(1-p_a)) / N_A  +  (p_b*(1-p_b)) / N_B)\n",
        "print(f'^se = {se:.4f}')"
      ],
      "execution_count": null,
      "outputs": [
        {
          "output_type": "stream",
          "name": "stdout",
          "text": [
            "^se = 0.1411\n"
          ]
        }
      ]
    },
    {
      "cell_type": "markdown",
      "metadata": {
        "id": "9HGPZKxwz7rI"
      },
      "source": [
        "### Compute the test statistic\n",
        "\n",
        "This is the value of $W$"
      ]
    },
    {
      "cell_type": "code",
      "metadata": {
        "id": "tRgWZhBJz7rJ",
        "colab": {
          "base_uri": "https://localhost:8080/"
        },
        "outputId": "45ace7f5-43e2-4efd-e3ac-1ccb5451d32a"
      },
      "source": [
        "W = (delta - 0) / se\n",
        "print(f\"W = {W:.4f}\")"
      ],
      "execution_count": null,
      "outputs": [
        {
          "output_type": "stream",
          "name": "stdout",
          "text": [
            "W = -1.1812\n"
          ]
        }
      ]
    },
    {
      "cell_type": "markdown",
      "metadata": {
        "id": "kG3m_gEZz7rJ"
      },
      "source": [
        "### Find the appropriate z-score\n",
        "\n",
        "Supposing our alpha = 0.05"
      ]
    },
    {
      "cell_type": "code",
      "metadata": {
        "id": "_XVBzit3z7rJ",
        "colab": {
          "base_uri": "https://localhost:8080/"
        },
        "outputId": "c68968cc-b470-4eb2-d8d2-c5f79c876713"
      },
      "source": [
        "alpha = 0.00005\n",
        "norm = stats.norm(loc=0, scale=1)\n",
        "z = norm.ppf(1-(alpha/2))\n",
        "print(f'z_alpha/2 = {z:.2f}') # this is a good z-score to memorize!"
      ],
      "execution_count": null,
      "outputs": [
        {
          "output_type": "stream",
          "name": "stdout",
          "text": [
            "z_alpha/2 = 4.06\n"
          ]
        }
      ]
    },
    {
      "cell_type": "markdown",
      "metadata": {
        "id": "7gKdvCQtz7rJ"
      },
      "source": [
        "### Run the hypothesis test!\n",
        "\n",
        "Can we reject the null hypothesis, and accept the alternative? Is one explanation better than the other?"
      ]
    },
    {
      "cell_type": "code",
      "metadata": {
        "id": "Wwrf7T1tz7rJ",
        "colab": {
          "base_uri": "https://localhost:8080/"
        },
        "outputId": "a8f01a13-5090-4d00-bab6-74824bfaafe9"
      },
      "source": [
        "abs(W) > z"
      ],
      "execution_count": null,
      "outputs": [
        {
          "output_type": "execute_result",
          "data": {
            "text/plain": [
              "False"
            ]
          },
          "metadata": {},
          "execution_count": 12
        }
      ]
    },
    {
      "cell_type": "markdown",
      "metadata": {
        "id": "4AUQL7W_z7rK"
      },
      "source": [
        "## What is the Wald test doing?\n",
        "\n",
        "With the Wald test, we computed $W$ and then did a comparison. What does this all mean?\n",
        "\n",
        "Recall: $W = \\frac{\\hat{\\theta} - \\theta_0}{\\hat{se}}$. If $|W| > z_{\\alpha/2}$ then you can reject the null hypothesis!\n",
        "\n",
        "### How does the Wald statistic work?\n",
        "\n",
        "Let's start with the one arm example: comparing the arm (i.e. condition) with a fixed proportion, say, 0.5. In hypothesis testing, we assume the null hypothesis is true. So, suppose the arm actually returns 1 with the probability of 0.5 (i.e. the null hypotheis is true in the real world) and see the distribution of the sample mean by running the same experiment many times."
      ]
    },
    {
      "cell_type": "code",
      "metadata": {
        "colab": {
          "base_uri": "https://localhost:8080/",
          "height": 298
        },
        "id": "L5cpT7bG9WOs",
        "outputId": "cddb7f5a-9e59-460f-ffe1-5d7e1e34614d"
      },
      "source": [
        "mean = 0.5 # The true underlining probability \n",
        "num_samples = 50 # The size of samples in one experiment\n",
        "num_exp = 100000 # The number of experiments \n",
        "\n",
        "# Running experiments and plotting them\n",
        "sample_A = stats.bernoulli.rvs(p=prop, size=(num_exp, num_samples))\n",
        "p_A = np.mean(sample_A, axis=1)\n",
        "print(f\"The mean is {np.mean(p_A)} and the standard deviation is {np.std(p_A)}\")\n",
        "plt.title(f\"The distribution of the sample mean, p={mean}\")\n",
        "plt.hist(p_A, bins=np.arange(-0.005, 1.005, 0.01));"
      ],
      "execution_count": null,
      "outputs": [
        {
          "output_type": "stream",
          "text": [
            "The mean is 0.49956300000000003 and the standard deviation is 0.07089110685410406\n"
          ],
          "name": "stdout"
        },
        {
          "output_type": "display_data",
          "data": {
            "image/png": "[encoded data removed]",
            "text/plain": [
              "<Figure size 432x288 with 1 Axes>"
            ]
          },
          "metadata": {
            "tags": [],
            "needs_background": "light"
          }
        }
      ]
    },
    {
      "cell_type": "markdown",
      "metadata": {
        "id": "miqLPe-7BKzk"
      },
      "source": [
        "The sample mean is (very close to) 0.5 and the standard deviation is (very close to) $\\sqrt{\\frac{p^2}{n}}$, which is called the standard error of the mean. Based on the graph above, you can intuitively tell that it is very unlikely to get a sample mean equal to like 0.8. But how can we quantify the level of (un)likelihood? What the Wald test does is to transform this distribution so that we can compute the (un) likelihood. Let's see how this distribution will look like after transformed by the Wald test!"
      ]
    },
    {
      "cell_type": "code",
      "metadata": {
        "colab": {
          "base_uri": "https://localhost:8080/",
          "height": 298
        },
        "id": "M4oLQdvZ9rD1",
        "outputId": "ee66442d-9e8a-4614-a847-4b791f5a153a"
      },
      "source": [
        "# Computing the Wald test statistics\n",
        "delta = p_A - mean\n",
        "se = np.sqrt((p_A*(1-p_A)) / num_samples)\n",
        "W = (delta - 0) / se\n",
        "\n",
        "# Plotting the distribution of the Wald test statistics\n",
        "print(f\"The mean is {np.mean(W)} and the standard deviation is {np.std(W)}\")\n",
        "plt.title(f\"The distribution of the Wald test statistic, {num_exp} experiments\")\n",
        "plt.hist(W, bins=np.arange(-4.05, 4.05, 0.1));"
      ],
      "execution_count": null,
      "outputs": [
        {
          "output_type": "stream",
          "text": [
            "The mean is -0.006491526538156053 and the standard deviation is 1.0354734424158398\n"
          ],
          "name": "stdout"
        },
        {
          "output_type": "display_data",
          "data": {
            "image/png": "[encoded data removed]",
            "text/plain": [
              "<Figure size 432x288 with 1 Axes>"
            ]
          },
          "metadata": {
            "tags": [],
            "needs_background": "light"
          }
        }
      ]
    },
    {
      "cell_type": "markdown",
      "metadata": {
        "id": "eNMwt8OtELYB"
      },
      "source": [
        "After the transformation, $W \\sim \\mathcal{N}(0, 1)$. In plain English, $W$ is [normally distributed](https://en.wikipedia.org/wiki/Normal_distribution) and its [mean](https://en.wikipedia.org/wiki/Arithmetic_mean) is 0 and [standard deviation](https://en.wikipedia.org/wiki/Standard_deviation) is 1 (if you are interested, this is caused by [central limit theorem](https://en.wikipedia.org/wiki/Central_limit_theorem)). The nice thing about this special normal distribution ($\\mathcal{N}(0, 1)$) is that the probability of getting a certain value of $W$ or something more extreme is precomputed as the [z-table](http://www.z-table.com/) (this probability is a [p-value](#scrollTo=FA2F7f31z7rO) described below). Because of this, if you get a very high or low $W$ like 2 or -3, you can say it is very unlikely to get such $W$ under the assumption that the null hypothesis is true. Therefore, you can reject the null hypothesis and claim that the arm proportion is different from 0.5."
      ]
    },
    {
      "cell_type": "markdown",
      "metadata": {
        "id": "9w1TLAXT7yfR"
      },
      "source": [
        "Let's move on to the two arm example, i.e., comparing the two arm means. Again, since we first assume the null hypothesis is true in hypothesis testing, suppose the null hypothesis is the ground truth (i.e. the arm means are the same between the two arms). Then, what value will the Wald statistic take?"
      ]
    },
    {
      "cell_type": "code",
      "metadata": {
        "colab": {
          "base_uri": "https://localhost:8080/"
        },
        "id": "HJWPFe4e7dhJ",
        "outputId": "f11ccc13-562a-485b-eda1-8caaf10750f7"
      },
      "source": [
        "# The same true underlining probability for arm A and arm B and the size of samples\n",
        "mA = 0.5\n",
        "mB = 0.5\n",
        "nA = 50\n",
        "nB = 50\n",
        "\n",
        "# Computing the Wald test statistic\n",
        "delta = mA - mB\n",
        "se = np.sqrt((mA*(1-mA)) / nA  +  (mB*(1-mB)) / nB)\n",
        "print(f'^delta = {delta:.4f}, ^se = {se:.4f}')\n",
        "W = (delta - 0) / se\n",
        "print(f\"W = {W:.4f}\")"
      ],
      "execution_count": null,
      "outputs": [
        {
          "output_type": "stream",
          "text": [
            "^delta = 0.0000, ^se = 0.1000\n",
            "W = 0.0000\n"
          ],
          "name": "stdout"
        }
      ]
    },
    {
      "cell_type": "markdown",
      "metadata": {
        "id": "UrWTJzVk7uAU"
      },
      "source": [
        "It's 0 because the numorator of the Wald test statistic is the difference between the arm means. However, when we run experiments in the real world, it may not be the case because sample means are random variables. So, let's run experiments many times with the two arms of the same mean to see the distribution of $W$."
      ]
    },
    {
      "cell_type": "code",
      "metadata": {
        "colab": {
          "base_uri": "https://localhost:8080/",
          "height": 298
        },
        "id": "nxB7vv_S763P",
        "outputId": "e8615f97-b207-4291-dc34-7579480f2a6f"
      },
      "source": [
        "# The same true underlining probability for arm A and arm B and the size of samples\n",
        "prop = 0.5\n",
        "num_samples = 50\n",
        "num_exp = 100000 # The number of experiments\n",
        "\n",
        "# Running experiments\n",
        "sample_A = stats.bernoulli.rvs(p=prop, size=(num_exp, num_samples))\n",
        "sample_B = stats.bernoulli.rvs(p=prop, size=(num_exp, num_samples))\n",
        "\n",
        "# Computing the Wald test statistics\n",
        "p_A = np.mean(sample_A, axis=1)\n",
        "p_B = np.mean(sample_B, axis=1)\n",
        "delta = p_A - p_B\n",
        "se = np.sqrt((p_A*(1-p_A)) / num_samples  +  (p_B*(1-p_B)) / num_samples)\n",
        "W = (delta - 0) / se\n",
        "\n",
        "# Showing the results and a plot\n",
        "print(f\"The mean is {np.mean(W)} and the standard deviation is {np.std(W)}\")\n",
        "plt.title(f\"The distribution of the Wald test statistic, {num_exp} experiments\")\n",
        "plt.hist(W, bins=np.arange(-4.05, 4.05, 0.1));"
      ],
      "execution_count": null,
      "outputs": [
        {
          "output_type": "stream",
          "text": [
            "The mean is 0.0011795051052614523 and the standard deviation is 1.02138087178401\n"
          ],
          "name": "stdout"
        },
        {
          "output_type": "display_data",
          "data": {
            "image/png": "[encoded data removed]",
            "text/plain": [
              "<Figure size 432x288 with 1 Axes>"
            ]
          },
          "metadata": {
            "tags": [],
            "needs_background": "light"
          }
        }
      ]
    },
    {
      "cell_type": "markdown",
      "metadata": {
        "id": "diqNy-tVxoSP"
      },
      "source": [
        "Again, as shown in the simulation above, $W \\sim \\mathcal{N}(0, 1)$. Therefore, if you get a very high or low $W$ like 2 or -3 (hence a lower [p-value](#scrollTo=FA2F7f31z7rO)), you can reject the null hypothesis and claim there is indeed a difference between the two arms.  "
      ]
    },
    {
      "cell_type": "markdown",
      "metadata": {
        "id": "-nas_DST6v5c"
      },
      "source": [
        "Now, what makes $W$ very high or very low? Ultimately, it relies on the difference in means and the standard error.  Let's look at a few examples of this.\n",
        "\n",
        "Suppose we had the A/B conditions, our means (m) were very similar, and we collected a large sample size for each condition (n)."
      ]
    },
    {
      "cell_type": "code",
      "metadata": {
        "id": "Ys5Z9MCOz7rK"
      },
      "source": [
        "mA = 0.53\n",
        "mB = 0.52\n",
        "nA = 199\n",
        "nB = 202"
      ],
      "execution_count": null,
      "outputs": []
    },
    {
      "cell_type": "code",
      "metadata": {
        "id": "JxDOdJRLz7rK",
        "colab": {
          "base_uri": "https://localhost:8080/"
        },
        "outputId": "486185b0-9d84-4d79-a2e7-7f3dc2df8a63"
      },
      "source": [
        "delta = mA - mB\n",
        "se = np.sqrt((mA*(1-mA)) / nA  +  (mB*(1-mB)) / nB)\n",
        "print(f'^delta = {delta:.4f}, ^se = {se:.4f}')"
      ],
      "execution_count": null,
      "outputs": [
        {
          "output_type": "stream",
          "text": [
            "^delta = 0.0100, ^se = 0.0499\n"
          ],
          "name": "stdout"
        }
      ]
    },
    {
      "cell_type": "markdown",
      "metadata": {
        "id": "WGF5q0sOz7rK"
      },
      "source": [
        "With similar means and large samples, the Wald statistic will be small!"
      ]
    },
    {
      "cell_type": "code",
      "metadata": {
        "id": "rbCLtxWcz7rK",
        "colab": {
          "base_uri": "https://localhost:8080/"
        },
        "outputId": "a7011d78-9990-4d85-8c40-1070f733b52f"
      },
      "source": [
        "W = (delta - 0) / se\n",
        "print(f\"W = {W:.4f}\")"
      ],
      "execution_count": null,
      "outputs": [
        {
          "output_type": "stream",
          "text": [
            "W = 0.2005\n"
          ],
          "name": "stdout"
        }
      ]
    },
    {
      "cell_type": "markdown",
      "metadata": {
        "id": "4KoKCK2Yz7rK"
      },
      "source": [
        "Now suppose we had very different means in the A/B conditions."
      ]
    },
    {
      "cell_type": "code",
      "metadata": {
        "id": "g-2wTTJfz7rK",
        "colab": {
          "base_uri": "https://localhost:8080/"
        },
        "outputId": "d334a778-880d-4beb-945e-f79f3432f1ba"
      },
      "source": [
        "mA = 0.7\n",
        "mB = 0.2\n",
        "nA = 199\n",
        "nB = 202\n",
        "delta = mA - mB\n",
        "se = np.sqrt((mA*(1-mA)) / nA  +  (mB*(1-mB)) / nB)\n",
        "print(f'^delta = {delta:.4f}, ^se = {se:.4f}')"
      ],
      "execution_count": null,
      "outputs": [
        {
          "output_type": "stream",
          "text": [
            "^delta = 0.5000, ^se = 0.0430\n"
          ],
          "name": "stdout"
        }
      ]
    },
    {
      "cell_type": "markdown",
      "metadata": {
        "id": "dOH2SBbgz7rL"
      },
      "source": [
        "With very different means the Wald statistic is very large!"
      ]
    },
    {
      "cell_type": "code",
      "metadata": {
        "id": "XQASjhhAz7rL",
        "colab": {
          "base_uri": "https://localhost:8080/"
        },
        "outputId": "3e6b775b-74f8-4576-f32d-62f084d5f84e"
      },
      "source": [
        "W = (delta - 0) / se\n",
        "print(f\"W = {W:.4f}\")"
      ],
      "execution_count": null,
      "outputs": [
        {
          "output_type": "stream",
          "text": [
            "W = 11.6331\n"
          ],
          "name": "stdout"
        }
      ]
    },
    {
      "cell_type": "markdown",
      "metadata": {
        "id": "RfiyyKH8z7rL"
      },
      "source": [
        "What if the means are still very different, but our sample size was very small?"
      ]
    },
    {
      "cell_type": "code",
      "metadata": {
        "id": "_UVrjDd1z7rL",
        "colab": {
          "base_uri": "https://localhost:8080/"
        },
        "outputId": "02bfe5e7-7bfc-4fcc-bc91-3a595058cf45"
      },
      "source": [
        "mA = 0.7\n",
        "mB = 0.2\n",
        "nA = 5\n",
        "nB = 6\n",
        "delta = mA - mB\n",
        "se = np.sqrt((mA*(1-mA)) / nA  +  (mB*(1-mB)) / nB)\n",
        "print(f'^delta = {delta:.4f}, ^se = {se:.4f}')\n",
        "W = (delta - 0) / se\n",
        "print(f\"W = {W:.4f}\")"
      ],
      "execution_count": null,
      "outputs": [
        {
          "output_type": "stream",
          "text": [
            "^delta = 0.5000, ^se = 0.2620\n",
            "W = 1.9081\n"
          ],
          "name": "stdout"
        }
      ]
    },
    {
      "cell_type": "markdown",
      "metadata": {
        "id": "Mr94TfvKz7rL"
      },
      "source": [
        "If the means are similar then the null hypothesis (that the means are the same) is quite likely to be true.  But if the means are very different then the null hypothesis is quite _unlikely_ to be true!\n",
        "\n",
        "On the other hand, if the means are different but the sample size is small, then it is quite possible that we got a fluke.  Thus, it is not so unlikely that the means would be extremely different in a small sample.\n",
        "\n",
        "The Wald statistic is therefore a measure of \"how extreme\" the difference in means is.  We will end up translating it to a probability that the evidence would be this extreme under the null hypothesis."
      ]
    },
    {
      "cell_type": "code",
      "metadata": {
        "id": "6nPOj2bez7rM",
        "colab": {
          "base_uri": "https://localhost:8080/",
          "height": 179,
          "referenced_widgets": [
            "7fb5864a44d448d69a5b450b4a79e5dc",
            "923281baef904631820d59a40bde2836",
            "2ece936b560646e3a032edd212baea9c",
            "2c2026f55e034e36915dd24f3afec49e",
            "348ed081a519443da89db1891e29b14d",
            "29f94085e0a64a56a18ad9673e0e9eb3",
            "4edacea3af0a41d581c36042295d2894",
            "8348f7739d644cc4be4efd8e9a3e088a",
            "c602bb3365784efa8fa95e6e3308ba98",
            "5f726f6b5b174ca29e7d6b4519761fe8",
            "d89a9c6d299a41949a15d7bd3feabf55",
            "7c3b4225a8e842a898e2b1d08afa6f64",
            "db3ad2a558c04fb3b42c799e929a8166",
            "50a32d6441c64bfb9f4f6dc8dd249719",
            "d1a72065e04d405faa2410034f0ff2eb",
            "acba5f4c8af245ad8eda0c7b87baec83"
          ]
        },
        "outputId": "a6bb61e0-e3d5-4047-9a60-a68d2321dc2e"
      },
      "source": [
        "@interact(mA=(0, 1, 0.05), mB=(0, 1, 0.05), nA=(1, 100), nB=(1,100))\n",
        "def wald_statistic_interact(mA=0.6, mB=0.3, nA=10, nB=10):\n",
        "    delta = mA - mB\n",
        "    se = np.sqrt((mA*(1-mA)) / nA  +  (mB*(1-mB)) / nB)\n",
        "    print(f'^delta = {delta:.4f}, ^se = {se:.4f}')\n",
        "    W = (delta - 0) / se\n",
        "    print(f\"W = {W:.4f}\")"
      ],
      "execution_count": null,
      "outputs": [
        {
          "output_type": "display_data",
          "data": {
            "application/vnd.jupyter.widget-view+json": {
              "model_id": "7fb5864a44d448d69a5b450b4a79e5dc",
              "version_minor": 0,
              "version_major": 2
            },
            "text/plain": [
              "interactive(children=(FloatSlider(value=0.6, description='mA', max=1.0, step=0.05), FloatSlider(value=0.3, des…"
            ]
          },
          "metadata": {
            "tags": []
          }
        }
      ]
    },
    {
      "cell_type": "markdown",
      "metadata": {
        "id": "T4CFgkKhz7rM"
      },
      "source": [
        "### $\\alpha$ is our confidence level\n",
        "\n",
        "Since the test statistic $W$ is a _random_ quantity based on random data (evidence from the experiment), we must acknowledge that there is some possibility our statistical test will come back with the wrong judgement.\n",
        "\n",
        "With our example, if you conducted the same exact experiment again, people may respond about whether they liked certain explanations differently.  The data could be so different that we cannot reject the null with the evidence from the second run of the experiment.\n",
        "\n",
        "With a statistical hypothesis test, there are 4 possible outcomes:\n",
        "\n",
        "| .          | Retain Null                    | Reject Null                   |\n",
        "|------------|--------------------------------|-------------------------------|\n",
        "| $H_0$ true |           ✓                    | type I error (false positive) |\n",
        "| $H_1$ true | type II error (false negative) |           ✓                   |\n",
        "\n",
        "The parameter $\\alpha$ lets us control what our desired level of type I error is.  The most common choice is $\\alpha = 0.05$, which means that you acknowledge that there is a 5% chance that your statistical hypothesis will make a type I error — that is, that you will reject the null hypothesis even when the null is true.\n",
        "\n",
        "You cannot know whether you made a type I or II error!  Over time you can become more and more confident, but you can never know for sure.\n",
        "\n",
        "When your $\\alpha$ is high:\n",
        "- the rejection region is large\n",
        "- meaning that a wider range of Wald statistics will fall within this rejection region\n",
        "- meaning you are more likely to reject the null hypothesis (**fewer** false negatives, type II errors)\n",
        "  - you will be less likely to incorrectly conclude that a significant thing is non-significant\n",
        "- but you will have **more** false positives (type I errors)\n",
        "  - you will be more likely to say that actually insignificant things are significant\n",
        "\n",
        "When your $\\alpha$ is low:\n",
        "- the rejection region is small\n",
        "- meaning that a small range of Wald statistics will fall within this rejection region\n",
        "- meaning you are **less** likely to reject the null hypothesis\n",
        "- there will be **fewer** false positives (type I errors)\n",
        "  - you will more correctly identify non-significant phenomena\n",
        "- but there will be **more** false negatives (type II errors)\n",
        "  - you will fail to identify some significant phenomena\n",
        "\n",
        "\n",
        "Many argue that it is time for the **arbitrary** convention of $\\alpha=0.05$ to be changed to something more restrictive, like $\\alpha=0.005$ (Benjamin et al, 2018) as a possible solution to the reproducibility crisis currently being faced by psychology and other social sciences (Open Science Collaboration, 2015).\n",
        "\n",
        "### $z_{\\alpha/2}$ is the critical value of the Wald statistic\n",
        "\n",
        "First, recall we have set $\\alpha = 0.05$ to be our statistical significance level (our acceptable type I error rate).\n",
        "\n",
        "Then, recall that we calculate the Wald statistic as follows:\n",
        "$W = \\frac{\\hat{\\theta} - \\theta_0}{\\hat{se}}$. \n",
        "\n",
        "The Wald statistic denotes \"how extreme\" the difference in means ($\\delta$) is.  We reject the null if it is more extreme than we would expect than by random.\n",
        "\n",
        "The most extreme values of the Wald statistic ($W$) will occur rarely — so they occur in the left and right tails of the Normal distribution. In the left tail if $W$ is negative and the right tail if $W$ is positive.\n",
        "\n",
        "Since we reject the null at the $\\alpha = 0.05$ level, then we want to make sure the rejection region covers 5% of all the possible outcomes.  So we put $\\alpha / 2$% of the rejection region in both the left and right tails of the Normal distribution.\n",
        "\n",
        "The starting point of of the rejection region is $z_{\\alpha/2}$, which is the x-axis of the Normal probability distribution!"
      ]
    },
    {
      "cell_type": "code",
      "metadata": {
        "scrolled": false,
        "id": "-odaX88Az7rM",
        "colab": {
          "base_uri": "https://localhost:8080/",
          "height": 297
        },
        "outputId": "dc2fd672-59f6-40f2-b280-0b35033267ce"
      },
      "source": [
        "fig, (ax1, ax2) = plt.subplots(1, 2, figsize=(14, 4))\n",
        "plt.subplots_adjust(hspace=0.4)\n",
        "\n",
        "alpha = 0.315\n",
        "z = norm.ppf(1-(alpha/2))\n",
        "x_null = np.linspace(-2, z, 100)\n",
        "ax1.fill_between(x=x_null, y1=0, y2=norm.pdf(x_null))\n",
        "x_alt_left  = np.linspace(-4, -z, 100)\n",
        "x_alt_right = np.linspace(z, 4, 100)\n",
        "ax1.fill_between(x=x_alt_left,  y1=0, y2=norm.pdf(x_alt_left), color='tab:orange')\n",
        "ax1.fill_between(x=x_alt_right, y1=0, y2=norm.pdf(x_alt_right), color='tab:orange')\n",
        "ax1.set_title(f\"$\\\\alpha = {alpha}$, rejection area $|z| = {z:.2f}$ in orange\")\n",
        "ax1.set_xlim(x_alt_left.min(), x_alt_right.max())\n",
        "ax1.set_ylim(0);\n",
        "ax1.set_xlabel(\"z-score\")\n",
        "\n",
        "alpha = 0.05\n",
        "z = norm.ppf(1-(alpha/2))\n",
        "x_null = np.linspace(-2, z, 100)\n",
        "ax2.fill_between(x=x_null, y1=0, y2=norm.pdf(x_null))\n",
        "x_alt_left  = np.linspace(-4, -z, 100)\n",
        "x_alt_right = np.linspace(z, 4, 100)\n",
        "ax2.fill_between(x=x_alt_left,  y1=0, y2=norm.pdf(x_alt_left), color='tab:orange')\n",
        "ax2.fill_between(x=x_alt_right, y1=0, y2=norm.pdf(x_alt_right), color='tab:orange')\n",
        "ax2.set_title(f\"$\\\\alpha = {alpha}$, rejection area $|z| = {z:.2f}$ in orange\")\n",
        "ax2.set_xlim(x_alt_left.min(), x_alt_right.max())\n",
        "ax2.set_ylim(0);\n",
        "ax2.set_xlabel(\"z-score\");"
      ],
      "execution_count": null,
      "outputs": [
        {
          "output_type": "display_data",
          "data": {
            "image/png": "[encoded data removed]",
            "text/plain": [
              "<Figure size 1008x288 with 2 Axes>"
            ]
          },
          "metadata": {
            "tags": [],
            "needs_background": "light"
          }
        }
      ]
    },
    {
      "cell_type": "markdown",
      "metadata": {
        "id": "4tbVmrO4z7rM"
      },
      "source": [
        "#### Interactive plot of the rejection region defined by $\\alpha$"
      ]
    },
    {
      "cell_type": "code",
      "metadata": {
        "id": "97J0YMUtz7rN",
        "colab": {
          "base_uri": "https://localhost:8080/",
          "height": 329,
          "referenced_widgets": [
            "bf2fce9cd9894d04947185ac1f7da5bd",
            "0eb640702f6d4906ba34f5522f489246",
            "0d7c3a5322d145b295cc7e3b243a4936",
            "c5b7d2cfa29a46a9b14f3569773f101a",
            "4bd7f24788ea4efab0016a028fd7dcd5",
            "00c236047bcb4bcc9c7839a07de31c0f",
            "9454272bf44c4035a3c34985aa4e05b4"
          ]
        },
        "outputId": "da0bfef6-b7e8-44cc-98fe-125800e202e1"
      },
      "source": [
        "@interact(alpha=(0.05, 1, 0.01))\n",
        "def alpha_rejection_region_interact(alpha=0.05):\n",
        "    fig, ax1 = plt.subplots()\n",
        "    z = norm.ppf(1-(alpha/2))\n",
        "    x_null = np.linspace(-z, z, 100)\n",
        "    ax1.fill_between(x=x_null, y1=0, y2=norm.pdf(x_null))\n",
        "    x_alt_left  = np.linspace(-4, -z, 100)\n",
        "    x_alt_right = np.linspace(z, 4, 100)\n",
        "    ax1.fill_between(x=x_alt_left,  y1=0, y2=norm.pdf(x_alt_left), color='tab:orange')\n",
        "    ax1.fill_between(x=x_alt_right, y1=0, y2=norm.pdf(x_alt_right), color='tab:orange')\n",
        "    ax1.set_title(f\"$\\\\alpha = {alpha}$, rejection area $|z| = {z:.2f}$ in orange\")\n",
        "    ax1.set_xlim(x_alt_left.min(), x_alt_right.max())\n",
        "    ax1.set_ylim(0);\n",
        "    ax1.set_xlabel(\"z-score\")"
      ],
      "execution_count": null,
      "outputs": [
        {
          "output_type": "display_data",
          "data": {
            "application/vnd.jupyter.widget-view+json": {
              "model_id": "bf2fce9cd9894d04947185ac1f7da5bd",
              "version_minor": 0,
              "version_major": 2
            },
            "text/plain": [
              "interactive(children=(FloatSlider(value=0.05, description='alpha', max=1.0, min=0.05, step=0.01), Output()), _…"
            ]
          },
          "metadata": {
            "tags": []
          }
        }
      ]
    },
    {
      "cell_type": "code",
      "metadata": {
        "id": "D54t0jEaz7rN"
      },
      "source": [
        "# just making sure we're using the data from the example\n",
        "delta = p_a - p_b\n",
        "se = np.sqrt((p_a*(1-p_a)) / N_A  +  (p_b*(1-p_b)) / N_B)\n",
        "W = (delta - 0) / se"
      ],
      "execution_count": null,
      "outputs": []
    },
    {
      "cell_type": "markdown",
      "metadata": {
        "id": "N4Fqey4cz7rN"
      },
      "source": [
        "### Using the Wald statistic to conduct the significance test\n",
        "\n",
        "Recall the significance test is that if $|W| > z_{\\alpha/2}$ then you can reject the null hypothesis.  \n",
        "\n",
        "By taking the absolute value of $|W|$, we can cover the case when $W$ is both negative and positive, checking both tails of the distribution at once.\n",
        "\n",
        "Our $z_{\\alpha/2}$ value is the critical statistic which defines the orange rejection regions as shown above.  If the Wald statistic exceeds this \"z-score\" then we reject.\n",
        "\n",
        "#### Wald confidence interval\n",
        "\n",
        "For the Wald test, if the null hypothesis test parameter falls _outside_ of the confidence interval formed by the test parameter and the standard error, then the null hypothesis can be rejected (Wasserman 2004; theorem 10.10)\n",
        "\n",
        "Recall the null hypothesis is that $\\hat{\\delta} = 0$: so if 0 is within this confidence interval, we cannot reject the null, but if 0 is not within this confidence interval we do reject the null.\n",
        "\n",
        "In this case as before, we see that 0 is not within this interval, so we reject the null and conclude the explanations are not statistically equal."
      ]
    },
    {
      "cell_type": "code",
      "metadata": {
        "id": "CGwG_HvYz7rN",
        "colab": {
          "base_uri": "https://localhost:8080/"
        },
        "outputId": "cb3d571f-8970-46b0-8409-d76ce2608e91"
      },
      "source": [
        "C = (delta - se*z, delta + se*z)\n",
        "C"
      ],
      "execution_count": null,
      "outputs": [
        {
          "output_type": "execute_result",
          "data": {
            "text/plain": [
              "(0.04805571266617198, 0.5852776206671613)"
            ]
          },
          "metadata": {
            "tags": []
          },
          "execution_count": 71
        }
      ]
    },
    {
      "cell_type": "markdown",
      "metadata": {
        "id": "DO0-lCZVz7rN"
      },
      "source": [
        "Here's how the significance test works, with the comparison of the $W$ statistic to the $z$-score\n",
        "- the null hypothesis of equal proportions is rejected if the green $|W|$ line is within the orange rejection region, where $|W| > z_{\\alpha/2}$.\n",
        "\n",
        "The second graph shows the confidence interval approach\n",
        "- the null hypothesis of equal proportions is rejected if the confidence interval does not cross the 0 line."
      ]
    },
    {
      "cell_type": "code",
      "metadata": {
        "scrolled": false,
        "id": "I7QA9UyFz7rN",
        "colab": {
          "base_uri": "https://localhost:8080/",
          "height": 460
        },
        "outputId": "2a8e7d97-5bbf-4f1e-e378-60f0617e97e3"
      },
      "source": [
        "fig, (ax1, ax2) = plt.subplots(2, 1, figsize=(14, 7), gridspec_kw=dict(height_ratios=[2, 0.5]))\n",
        "plt.subplots_adjust(hspace=0.4)\n",
        "\n",
        "x_null = np.linspace(0, z, 100)\n",
        "ax1.fill_between(x=x_null, y1=0, y2=norm.pdf(x_null))\n",
        "x_alt_right = np.linspace(z, 4, 100)\n",
        "ax1.fill_between(x=x_alt_right, y1=0, y2=norm.pdf(x_alt_right), color='tab:orange')\n",
        "ax1.set_title(f\"Normal distribution, with area above $|z| = {z:.2f}$ in orange\")\n",
        "ax1.set_xlim(0, x_alt_right.max())\n",
        "ax1.set_ylim(0);\n",
        "ax1.axvline(abs(W), color='tab:green', linestyle='--', label=f\"|W| = {abs(W):.2f}\")\n",
        "ax1.set_xlabel(\"z-score\")\n",
        "ax1.legend();\n",
        "\n",
        "ax2.set_title(\"Test parameter ($\\delta$) with standard error confidence interval\")\n",
        "ax2.set_xlabel(\"value\")\n",
        "ax2.errorbar(x=delta, xerr=se*z, y=0, marker='o', markersize=10, capsize=5, linewidth=1)\n",
        "ax2.axvline(0, color='grey', linewidth=1)\n",
        "ax2.set_yticks([]);"
      ],
      "execution_count": null,
      "outputs": [
        {
          "output_type": "display_data",
          "data": {
            "image/png": "[encoded data removed]",
            "text/plain": [
              "<Figure size 1008x504 with 2 Axes>"
            ]
          },
          "metadata": {
            "tags": [],
            "needs_background": "light"
          }
        }
      ]
    },
    {
      "cell_type": "markdown",
      "metadata": {
        "id": "KCYqMznYz7rO"
      },
      "source": [
        "### Interactive Wald test"
      ]
    },
    {
      "cell_type": "code",
      "metadata": {
        "id": "-BuA0oz7z7rO",
        "colab": {
          "base_uri": "https://localhost:8080/",
          "height": 622,
          "referenced_widgets": [
            "efbd7456384c461b88f67647da2a5d9b",
            "8e5047a3baf54f2cb189a899f6e154de",
            "e165f7f29b204ef7a9ac521f778e1187",
            "c2f8f6c3acd74b429aaa2d7983f067ff",
            "23984bc8ffde43d6a7972df71e142ad4",
            "ff0b676f4f7f4792a6d09079b9943a29",
            "59f396d6efeb48e3a588b8fab49b450a",
            "7b8906917a1b447280594776224bd622",
            "b42daaad5e3b4e2d837b546adf1c731f",
            "3e38ac62fa4c42e286e86f85ffcc1cd8",
            "7d8e668dabe44f5fa33fdc4ea0a77ae1",
            "7b4368fb90d64889840ee6dc907a98d1",
            "3ab7140fb04047859662c2b55e6a692e",
            "f254434441734321887177b29ac6bfe8",
            "d7e741d20b194c2ca66999011a2ee2c7",
            "c382a7aed44345b5b5b4de812679ca69"
          ]
        },
        "outputId": "5301375d-28ad-4ea8-cc99-5ac7b4ef6b2b"
      },
      "source": [
        "@interact(p_a=(0.01, 1, 0.01), p_b=(0.01, 1, 0.01), N_A=(1, 100), N_B=(1, 100))\n",
        "def interactive_wald_test(p_a=0.5, p_b=0.4, N_A=10, N_B=10):\n",
        "    delta = p_a - p_b\n",
        "    se = np.sqrt((p_a*(1-p_a)) / N_A  +  (p_b*(1-p_b)) / N_B)\n",
        "    W = (delta - 0) / se\n",
        "\n",
        "    print(f'^delta = {delta:.4f}, ^se = {se:.4f}')\n",
        "    print(f\"W = {W:.4f}\")\n",
        "    \n",
        "    W = abs(W)\n",
        "\n",
        "    fig, (ax1, ax2) = plt.subplots(2, 1, figsize=(14, 7), gridspec_kw=dict(height_ratios=[2, 0.5]))\n",
        "    plt.subplots_adjust(hspace=0.4)\n",
        "    \n",
        "    x2lim = max(4, W*1.01)\n",
        "\n",
        "    x_null = np.linspace(0, z, 100)\n",
        "    ax1.fill_between(x=x_null, y1=0, y2=norm.pdf(x_null))\n",
        "    x_alt_right = np.linspace(z, x2lim, 100)\n",
        "    ax1.fill_between(x=x_alt_right, y1=0, y2=norm.pdf(x_alt_right), color='tab:orange')\n",
        "    ax1.set_title(f\"Normal distribution, with area above $|z| = {z:.2f}$ in orange\")\n",
        "    ax1.set_xlim(0, x2lim)\n",
        "    ax1.set_ylim(0);\n",
        "    ax1.axvline(W, color='tab:green', linestyle='--', label=f\"|W| = {W:.2f}\")\n",
        "    ax1.set_xlabel(\"z-score\")\n",
        "    ax1.legend();\n",
        "\n",
        "    ax2.set_title(\"Test parameter ($\\delta$) with standard error confidence interval\")\n",
        "    ax2.set_xlabel(\"value\")\n",
        "    ax2.errorbar(x=delta, xerr=se*z, y=0, marker='o', markersize=10, capsize=5, linewidth=1)\n",
        "    ax2.axvline(0, color='grey', linewidth=1)\n",
        "    ax2.set_yticks([]);"
      ],
      "execution_count": null,
      "outputs": [
        {
          "output_type": "display_data",
          "data": {
            "application/vnd.jupyter.widget-view+json": {
              "model_id": "efbd7456384c461b88f67647da2a5d9b",
              "version_minor": 0,
              "version_major": 2
            },
            "text/plain": [
              "interactive(children=(FloatSlider(value=0.5, description='p_a', max=1.0, min=0.01, step=0.01), FloatSlider(val…"
            ]
          },
          "metadata": {
            "tags": []
          }
        }
      ]
    },
    {
      "cell_type": "markdown",
      "metadata": {
        "id": "FA2F7f31z7rO"
      },
      "source": [
        "# $p$-values\n",
        "\n",
        "(Wasserman 2004, Chapter 10.2)\n",
        "\n",
        "The hypothesis test so far has been just one simple comparison: accept or reject the null hypothesis? All this boils down to is, does the Wald statistic fall within the rejection region, or does it not?\n",
        "\n",
        "The rejection region was defined by our desired level of $\\alpha = 0.05$ which we chose ahead of time.  However, we can ask a different question.\n",
        "\n",
        "**What is the smallest $\\alpha$ at which we would reject the null hypothesis ($H_0$)?**\n",
        "\n",
        "$|W|$ is the smallest z-score where we can reject the null hypothesis!  This minimal rejection region is in green below: it is just the area of the Normal distribution's tails defined by $|W|$."
      ]
    },
    {
      "cell_type": "code",
      "metadata": {
        "id": "5ZyLfRq-z7rO",
        "colab": {
          "base_uri": "https://localhost:8080/",
          "height": 352
        },
        "outputId": "5d7cce5f-0464-4525-e16f-ce4cb37e35d3"
      },
      "source": [
        "fig, ax1 = plt.subplots(1, 1, figsize=(14, 5))\n",
        "plt.subplots_adjust(hspace=0.4)\n",
        "\n",
        "xlim = max(4, W*1.01)\n",
        "critical_z = abs(W)\n",
        "x_null = np.linspace(-critical_z, critical_z, 100)\n",
        "ax1.fill_between(x=x_null, y1=0, y2=norm.pdf(x_null))\n",
        "x_rej_left = np.linspace(-xlim, -critical_z, 100)\n",
        "x_rej_right = np.linspace(critical_z, xlim, 100)\n",
        "ax1.fill_between(x=x_rej_left, y1=0, y2=norm.pdf(x_rej_left), color='limegreen')\n",
        "ax1.fill_between(x=x_rej_right, y1=0, y2=norm.pdf(x_rej_right), color='limegreen')\n",
        "ax1.set_title(f\"Normal distribution, with smallest rejection region above $|z| = {critical_z:.2f}$ in green\")\n",
        "ax1.set_xlim(-xlim, xlim)\n",
        "ax1.set_ylim(0);\n",
        "ax1.axvline(-abs(W), color='tab:green', linestyle='--', label=f\"-|W| = {-abs(W):.2f}\")\n",
        "ax1.axvline(abs(W), color='tab:green', linestyle='--', label=f\"+|W| = {abs(W):.2f}\")\n",
        "ax1.set_xlabel(\"z-score\")\n",
        "ax1.legend();"
      ],
      "execution_count": null,
      "outputs": [
        {
          "output_type": "display_data",
          "data": {
            "image/png": "[encoded data removed]",
            "text/plain": [
              "<Figure size 1008x360 with 1 Axes>"
            ]
          },
          "metadata": {
            "tags": [],
            "needs_background": "light"
          }
        }
      ]
    },
    {
      "cell_type": "markdown",
      "metadata": {
        "id": "elIcHSpNz7rO"
      },
      "source": [
        "### But what is the $p$-value?\n",
        "\n",
        "Definition of the $p$-value:\n",
        "\n",
        "> The $p$-value is the probability (under $H_0$) of observing a value of the test statistic the same as or more extreme than what was actually observed.\n",
        "\n",
        "(Wasserman 2004, p 158)\n",
        "\n",
        "Just like the area under the Normal distribution curve defines a probability, the area of the rejection region is the probability of observing a value that falls within the rejection region.  This is exactly how we compute our $p$-value!  So we need to compute the area of the green regions.\n",
        "\n",
        "For the two-tailed Wald test, $p\\text{-value} = 2 \\Phi(-|W|)$, where $\\Phi$ is the cumulative density function of the Normal distribution"
      ]
    },
    {
      "cell_type": "code",
      "metadata": {
        "id": "EtLqPuk0z7rO",
        "colab": {
          "base_uri": "https://localhost:8080/"
        },
        "outputId": "9043130f-1cfb-4a00-8732-33b368554e1e"
      },
      "source": [
        "tail_probability = norm.cdf(-abs(W))\n",
        "p_value = 2*tail_probability\n",
        "print(f\"p = {p_value:.5f}\")"
      ],
      "execution_count": null,
      "outputs": [
        {
          "output_type": "stream",
          "text": [
            "p = 0.02085\n"
          ],
          "name": "stdout"
        }
      ]
    },
    {
      "cell_type": "markdown",
      "metadata": {
        "id": "bQv6r6cVz7rO"
      },
      "source": [
        "This means that there is about a 2% probability that, if the null hypothesis were true, that we would see a difference in means as extreme as the one we observed.\n",
        "\n",
        "Once we have computed the $p$-value, we don't have to care about the test statistic or the Wald statistic anymore.\n",
        "\n",
        "This is useful because there are all kinds of statistical tests in existence, and the $p$-value is single way to understand the value of any statistical test without worrying about each test's different test statistics and how they work.\n",
        "\n",
        "### $\\alpha$ is still our rejection region\n",
        "\n",
        "Before our rejection region was defined by the $z$-score and its comparison to the Wald statistic $|W|$.  Now, $\\alpha$ defines a region of $p$-values!  If the observed evidence produces a statistical test which generates a $p$-value that is less than $\\alpha$, we reject the null hypothesis (for our example, we conclude that the explanations are not equally effective)."
      ]
    },
    {
      "cell_type": "code",
      "metadata": {
        "id": "V_OT0i69z7rR",
        "colab": {
          "base_uri": "https://localhost:8080/"
        },
        "outputId": "810ce55a-416d-44fc-a67a-07587e96fab2"
      },
      "source": [
        "print(f\"p = {p_value:.5f}, alpha = {alpha}, p < {alpha}? \", p_value < alpha)"
      ],
      "execution_count": null,
      "outputs": [
        {
          "output_type": "stream",
          "text": [
            "p = 0.02085, alpha = 0.05, p < 0.05?  True\n"
          ],
          "name": "stdout"
        }
      ]
    },
    {
      "cell_type": "markdown",
      "metadata": {
        "id": "6ruTz8iez7rR"
      },
      "source": [
        "<div style=\"height:200px\"></div>"
      ]
    },
    {
      "cell_type": "markdown",
      "metadata": {
        "id": "jUDMzoVVz7rR"
      },
      "source": [
        "# Appendix\n",
        "\n",
        "## Exploring Bernoulli distribution, deriving Binomial, assuming Normality\n",
        "\n",
        "Bernoulli data gives rise to a Binomial distribution\n",
        "\n",
        "By taking the difference in means we are creating a new Binomial distribution.\n",
        "\n",
        "With more and more data, the Binomial distribution approaches the shape of the Normal distribution."
      ]
    },
    {
      "cell_type": "markdown",
      "metadata": {
        "id": "caz2JTA5z7rS"
      },
      "source": [
        "One Bernoulli trial — the explanation works with probability $p$, like flipping a biased coin."
      ]
    },
    {
      "cell_type": "code",
      "metadata": {
        "id": "8SOyDCe7z7rS",
        "colab": {
          "base_uri": "https://localhost:8080/"
        },
        "outputId": "34118286-9dad-4b04-e011-e374060418c4"
      },
      "source": [
        "def bernoulli(p):\n",
        "    if np.random.random() < p:\n",
        "        return 1\n",
        "    else:\n",
        "        return 0\n",
        "    \n",
        "bernoulli(p=0.5)"
      ],
      "execution_count": null,
      "outputs": [
        {
          "output_type": "execute_result",
          "data": {
            "text/plain": [
              "0"
            ]
          },
          "metadata": {
            "tags": []
          },
          "execution_count": 77
        }
      ]
    },
    {
      "cell_type": "markdown",
      "metadata": {
        "id": "A7_y_C6qz7rS"
      },
      "source": [
        "$n$ Bernoulli trials: we flip $n$ biased coins with probability $p$:"
      ]
    },
    {
      "cell_type": "code",
      "metadata": {
        "id": "0UBj6V-Rz7rS",
        "colab": {
          "base_uri": "https://localhost:8080/"
        },
        "outputId": "5351d18e-d928-464b-85f7-c4c6f143b2e8"
      },
      "source": [
        "n = 10\n",
        "flips = [bernoulli(p=0.5) for coin_i in range(n)]\n",
        "flips"
      ],
      "execution_count": null,
      "outputs": [
        {
          "output_type": "execute_result",
          "data": {
            "text/plain": [
              "[0, 0, 1, 1, 0, 0, 1, 0, 1, 0]"
            ]
          },
          "metadata": {
            "tags": []
          },
          "execution_count": 78
        }
      ]
    },
    {
      "cell_type": "markdown",
      "metadata": {
        "id": "oHlq7BDcz7rS"
      },
      "source": [
        "Out of these coin flips, how many heads (1s) did we get?"
      ]
    },
    {
      "cell_type": "code",
      "metadata": {
        "id": "vslg4_evz7rS",
        "colab": {
          "base_uri": "https://localhost:8080/"
        },
        "outputId": "1193c243-2e23-4000-98b6-0078cbe25e48"
      },
      "source": [
        "flips.count(1)"
      ],
      "execution_count": null,
      "outputs": [
        {
          "output_type": "execute_result",
          "data": {
            "text/plain": [
              "4"
            ]
          },
          "metadata": {
            "tags": []
          },
          "execution_count": 79
        }
      ]
    },
    {
      "cell_type": "markdown",
      "metadata": {
        "id": "6eCw0R0-z7rS"
      },
      "source": [
        "So what is the mean probability of heads in this sample?"
      ]
    },
    {
      "cell_type": "code",
      "metadata": {
        "id": "-uWbfKFJz7rS",
        "colab": {
          "base_uri": "https://localhost:8080/"
        },
        "outputId": "816973d3-b1f9-4675-8d4e-1143199123bd"
      },
      "source": [
        "flips.count(1) / len(flips)"
      ],
      "execution_count": null,
      "outputs": [
        {
          "output_type": "execute_result",
          "data": {
            "text/plain": [
              "0.4"
            ]
          },
          "metadata": {
            "tags": []
          },
          "execution_count": 80
        }
      ]
    },
    {
      "cell_type": "markdown",
      "metadata": {
        "id": "v2qu0Nsfz7rT"
      },
      "source": [
        "Run this experiment many times.  Each time flip $n$ coins and keep track of how many heads (1s) you get:"
      ]
    },
    {
      "cell_type": "code",
      "metadata": {
        "id": "RKrtagCUz7rT",
        "colab": {
          "base_uri": "https://localhost:8080/"
        },
        "outputId": "90467e58-620d-4321-aca5-353e8c770194"
      },
      "source": [
        "flips_1 = [bernoulli(p=0.5) for coin_i in range(n)]\n",
        "flips_2 = [bernoulli(p=0.5) for coin_i in range(n)]\n",
        "flips_3 = [bernoulli(p=0.5) for coin_i in range(n)]\n",
        "flips_4 = [bernoulli(p=0.5) for coin_i in range(n)]\n",
        "\n",
        "num_heads = [flips_1.count(1), flips_2.count(1), flips_3.count(1), flips_4.count(1)]\n",
        "num_heads"
      ],
      "execution_count": null,
      "outputs": [
        {
          "output_type": "execute_result",
          "data": {
            "text/plain": [
              "[2, 8, 3, 4]"
            ]
          },
          "metadata": {
            "tags": []
          },
          "execution_count": 81
        }
      ]
    },
    {
      "cell_type": "code",
      "metadata": {
        "id": "8cVRZLiHz7rT",
        "colab": {
          "base_uri": "https://localhost:8080/",
          "height": 283
        },
        "outputId": "6c8097bf-c6ce-42ba-f2d4-dcf116a37f2e"
      },
      "source": [
        "plt.title(\"Number of heads after flipping $n$ coins, 4 experiments\")\n",
        "plt.hist(num_heads, bins=10);"
      ],
      "execution_count": null,
      "outputs": [
        {
          "output_type": "display_data",
          "data": {
            "image/png": "[encoded data removed]",
            "text/plain": [
              "<Figure size 432x288 with 1 Axes>"
            ]
          },
          "metadata": {
            "tags": [],
            "needs_background": "light"
          }
        }
      ]
    },
    {
      "cell_type": "markdown",
      "metadata": {
        "id": "N_utcmbTz7rT"
      },
      "source": [
        "Lets automate the above, and run a bunch of trials:"
      ]
    },
    {
      "cell_type": "code",
      "metadata": {
        "id": "gdnsVuv2z7rT",
        "colab": {
          "base_uri": "https://localhost:8080/",
          "height": 283
        },
        "outputId": "2f1bf7a6-21ee-4fdd-9b16-6820d8717efa"
      },
      "source": [
        "def flip_biasedcoins_countheads(n, p):\n",
        "    flips = [bernoulli(p=p) for coin_i in range(n)]\n",
        "    return flips.count(1)\n",
        "\n",
        "num_flip_experiments = 100\n",
        "num_heads = [flip_biasedcoins_countheads(n=10, p=0.5) for _ in range(num_flip_experiments)]\n",
        "plt.title(f\"Number of heads after flipping $n$ coins, {len(num_heads)} experiments\")\n",
        "plt.hist(num_heads);"
      ],
      "execution_count": null,
      "outputs": [
        {
          "output_type": "display_data",
          "data": {
            "image/png": "[encoded data removed]",
            "text/plain": [
              "<Figure size 432x288 with 1 Axes>"
            ]
          },
          "metadata": {
            "tags": [],
            "needs_background": "light"
          }
        }
      ]
    },
    {
      "cell_type": "markdown",
      "metadata": {
        "id": "Wp94p1YJz7rT"
      },
      "source": [
        "Lets run even more to get a better idea of what would happen in the infinite data (theoretical) case:"
      ]
    },
    {
      "cell_type": "code",
      "metadata": {
        "id": "hpIoc2Siz7rT",
        "colab": {
          "base_uri": "https://localhost:8080/",
          "height": 283
        },
        "outputId": "d836e3b7-8a3f-4334-eb77-9dc998db4ba4"
      },
      "source": [
        "num_flip_experiments = 10000\n",
        "num_heads_alot = [flip_biasedcoins_countheads(n=10, p=0.5) for _ in range(num_flip_experiments)]\n",
        "plt.title(f\"Number of heads after flipping $n$ coins, {len(num_heads_alot)} experiments\")\n",
        "plt.hist(num_heads_alot);"
      ],
      "execution_count": null,
      "outputs": [
        {
          "output_type": "display_data",
          "data": {
            "image/png": "[encoded data removed]",
            "text/plain": [
              "<Figure size 432x288 with 1 Axes>"
            ]
          },
          "metadata": {
            "tags": [],
            "needs_background": "light"
          }
        }
      ]
    },
    {
      "cell_type": "markdown",
      "metadata": {
        "id": "EOTNpHehz7rU"
      },
      "source": [
        "We just derived the Binomial distribution!  It is just how many times we would get heads if we flipped $n$ biased coins with probability $p$.\n",
        "\n",
        "Alternatively, it models the number of students who like an explanation if the explanation has a probability $p$ of being good, and we asked $n$ students.\n",
        "\n",
        "But the Wald test isn't using the count of students who liked the explanation, it is using the proportion of students who liked it. Is the binomial mean also binomially distributed?"
      ]
    },
    {
      "cell_type": "code",
      "metadata": {
        "id": "CJ-viilJz7rU"
      },
      "source": [
        "from decimal import Decimal\n",
        "from collections import Counter"
      ],
      "execution_count": null,
      "outputs": []
    },
    {
      "cell_type": "code",
      "metadata": {
        "id": "_pUs1crrz7rU",
        "colab": {
          "base_uri": "https://localhost:8080/",
          "height": 281
        },
        "outputId": "54ec80b3-085f-4e4b-b5f9-6af94fe0a798"
      },
      "source": [
        "def random_binomial_mean(n, p):\n",
        "    count_heads = flip_biasedcoins_countheads(n=n, p=p)\n",
        "    return Decimal(count_heads) / n\n",
        "\n",
        "num_flip_experiments = 100000\n",
        "means_many = [random_binomial_mean(n=10, p=0.5) for _ in range(num_flip_experiments)]\n",
        "h = Counter(means_many)\n",
        "\n",
        "fig, ax = plt.subplots(figsize=(12, 4))\n",
        "xs = sorted(h.keys())\n",
        "b = [h[_x] for _x in xs]\n",
        "ax.set_title(\"Distribution of means from Binomially distributed data\")\n",
        "ax.bar(x=np.arange(len(xs)), height=b)\n",
        "ax.set_xticks(np.arange(len(xs)))\n",
        "ax.set_xticklabels(labels=map(str, xs));"
      ],
      "execution_count": null,
      "outputs": [
        {
          "output_type": "display_data",
          "data": {
            "image/png": "[encoded data removed]",
            "text/plain": [
              "<Figure size 864x288 with 1 Axes>"
            ]
          },
          "metadata": {
            "tags": [],
            "needs_background": "light"
          }
        }
      ]
    },
    {
      "cell_type": "markdown",
      "metadata": {
        "id": "uTaEJZvez7rU"
      },
      "source": [
        "And our Wald test isn't just means, it is a difference in means. What about that?"
      ]
    },
    {
      "cell_type": "code",
      "metadata": {
        "id": "hGM-OgQdz7rU",
        "colab": {
          "base_uri": "https://localhost:8080/",
          "height": 281
        },
        "outputId": "2a678639-7e45-4260-c590-4f42e39f2de1"
      },
      "source": [
        "def random_difference_binomial_means(n, p):\n",
        "    exp1_count_heads = flip_biasedcoins_countheads(n=n, p=p)\n",
        "    m1 = Decimal(exp1_count_heads) / n\n",
        "    exp2_count_heads = flip_biasedcoins_countheads(n=n, p=p)\n",
        "    m2 = Decimal(exp2_count_heads) / n\n",
        "    return m1-m2\n",
        "\n",
        "\n",
        "num_flip_experiments = 100000\n",
        "means_many = [random_difference_binomial_means(n=10, p=0.5) for _ in range(num_flip_experiments)]\n",
        "h = Counter(means_many)\n",
        "\n",
        "fig, ax = plt.subplots(figsize=(12, 4))\n",
        "xs = sorted(h.keys())\n",
        "b = [h[_x] for _x in xs]\n",
        "ax.set_title(\"Distribution of differences of means from Binomially distributed data\")\n",
        "ax.bar(x=np.arange(len(xs)), height=b)\n",
        "ax.set_xticks(np.arange(len(xs)))\n",
        "ax.set_xticklabels(labels=map(str, xs));"
      ],
      "execution_count": null,
      "outputs": [
        {
          "output_type": "display_data",
          "data": {
            "image/png": "[encoded data removed]",
            "text/plain": [
              "<Figure size 864x288 with 1 Axes>"
            ]
          },
          "metadata": {
            "tags": [],
            "needs_background": "light"
          }
        }
      ]
    },
    {
      "cell_type": "markdown",
      "metadata": {
        "id": "jsP4FRmjz7rU"
      },
      "source": [
        "For binomial distributed data, as $n$ i.e. the number of coin flips (or students seeing explanations) approaches infinity, we get an approximately Normal distribution."
      ]
    },
    {
      "cell_type": "code",
      "metadata": {
        "id": "V55SDARBz7rU",
        "colab": {
          "base_uri": "https://localhost:8080/",
          "height": 283
        },
        "outputId": "dcd58163-d793-4b98-87a4-8cd3c905d5ca"
      },
      "source": [
        "fig, axes = plt.subplots(1, 4, figsize=(16, 4))\n",
        "ntrials = [6, 20, 100]\n",
        "\n",
        "for n, ax in zip(ntrials, axes.flatten()[:-1]):\n",
        "    x = np.arange(0, n+1)\n",
        "    ax.set_title(f\"Binomial: $p=0.5$ and $n={n}$\")\n",
        "    ax.bar(x=x, height=stats.binom.pmf(x, p=0.5, n=n))\n",
        "    \n",
        "ax = axes[-1]\n",
        "x = np.arange(400, 600)\n",
        "ax.fill_between(x=x, y1=0, y2=stats.binom.pmf(x, p=0.5, n=1000))\n",
        "ax.set_ylim(0, 0.028)\n",
        "ax.set_title(\"Binomial: $p=0.5$ and $n=1000$\");"
      ],
      "execution_count": null,
      "outputs": [
        {
          "output_type": "display_data",
          "data": {
            "image/png": "[encoded data removed]",
            "text/plain": [
              "<Figure size 1152x288 with 4 Axes>"
            ]
          },
          "metadata": {
            "tags": [],
            "needs_background": "light"
          }
        }
      ]
    }
  ]
}